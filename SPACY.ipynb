{
  "nbformat": 4,
  "nbformat_minor": 5,
  "metadata": {
    "colab": {
      "name": "NLP_spacy_english.ipynb",
      "provenance": [],
      "collapsed_sections": []
    },
    "kernelspec": {
      "name": "python3",
      "display_name": "Python 3",
      "language": "python"
    },
    "language_info": {
      "name": "python",
      "version": "3.7.10",
      "mimetype": "text/x-python",
      "codemirror_mode": {
        "name": "ipython",
        "version": 3
      },
      "pygments_lexer": "ipython3",
      "nbconvert_exporter": "python",
      "file_extension": ".py"
    }
  },
  "cells": [
    {
      "cell_type": "markdown",
      "metadata": {
        "id": "6d86d219"
      },
      "source": [
        "# TP1 : Natural Language Processing NLP  :    **Bibliothèque SPACY Anglais text**"
      ],
      "id": "6d86d219"
    },
    {
      "cell_type": "code",
      "metadata": {
        "id": "4c4688fe",
        "trusted": true,
        "colab": {
          "base_uri": "https://localhost:8080/"
        },
        "outputId": "24969266-1c4f-4443-fed2-c81b245443f1"
      },
      "source": [
        "!pip install -U spacy\n",
        "!python -m spacy download en_core_web_sm"
      ],
      "id": "4c4688fe",
      "execution_count": 41,
      "outputs": [
        {
          "output_type": "stream",
          "text": [
            "Requirement already up-to-date: spacy in /usr/local/lib/python3.7/dist-packages (3.1.0)\n",
            "Requirement already satisfied, skipping upgrade: srsly<3.0.0,>=2.4.1 in /usr/local/lib/python3.7/dist-packages (from spacy) (2.4.1)\n",
            "Requirement already satisfied, skipping upgrade: requests<3.0.0,>=2.13.0 in /usr/local/lib/python3.7/dist-packages (from spacy) (2.23.0)\n",
            "Requirement already satisfied, skipping upgrade: numpy>=1.15.0 in /usr/local/lib/python3.7/dist-packages (from spacy) (1.19.5)\n",
            "Requirement already satisfied, skipping upgrade: preshed<3.1.0,>=3.0.2 in /usr/local/lib/python3.7/dist-packages (from spacy) (3.0.5)\n",
            "Requirement already satisfied, skipping upgrade: typing-extensions<4.0.0.0,>=3.7.4; python_version < \"3.8\" in /usr/local/lib/python3.7/dist-packages (from spacy) (3.7.4.3)\n",
            "Requirement already satisfied, skipping upgrade: pathy>=0.3.5 in /usr/local/lib/python3.7/dist-packages (from spacy) (0.6.0)\n",
            "Requirement already satisfied, skipping upgrade: blis<0.8.0,>=0.4.0 in /usr/local/lib/python3.7/dist-packages (from spacy) (0.4.1)\n",
            "Requirement already satisfied, skipping upgrade: cymem<2.1.0,>=2.0.2 in /usr/local/lib/python3.7/dist-packages (from spacy) (2.0.5)\n",
            "Requirement already satisfied, skipping upgrade: catalogue<2.1.0,>=2.0.4 in /usr/local/lib/python3.7/dist-packages (from spacy) (2.0.4)\n",
            "Requirement already satisfied, skipping upgrade: wasabi<1.1.0,>=0.8.1 in /usr/local/lib/python3.7/dist-packages (from spacy) (0.8.2)\n",
            "Requirement already satisfied, skipping upgrade: setuptools in /usr/local/lib/python3.7/dist-packages (from spacy) (57.0.0)\n",
            "Requirement already satisfied, skipping upgrade: murmurhash<1.1.0,>=0.28.0 in /usr/local/lib/python3.7/dist-packages (from spacy) (1.0.5)\n",
            "Requirement already satisfied, skipping upgrade: tqdm<5.0.0,>=4.38.0 in /usr/local/lib/python3.7/dist-packages (from spacy) (4.41.1)\n",
            "Requirement already satisfied, skipping upgrade: spacy-legacy<3.1.0,>=3.0.7 in /usr/local/lib/python3.7/dist-packages (from spacy) (3.0.8)\n",
            "Requirement already satisfied, skipping upgrade: typer<0.4.0,>=0.3.0 in /usr/local/lib/python3.7/dist-packages (from spacy) (0.3.2)\n",
            "Requirement already satisfied, skipping upgrade: thinc<8.1.0,>=8.0.7 in /usr/local/lib/python3.7/dist-packages (from spacy) (8.0.7)\n",
            "Requirement already satisfied, skipping upgrade: pydantic!=1.8,!=1.8.1,<1.9.0,>=1.7.4 in /usr/local/lib/python3.7/dist-packages (from spacy) (1.8.2)\n",
            "Requirement already satisfied, skipping upgrade: packaging>=20.0 in /usr/local/lib/python3.7/dist-packages (from spacy) (20.9)\n",
            "Requirement already satisfied, skipping upgrade: jinja2 in /usr/local/lib/python3.7/dist-packages (from spacy) (2.11.3)\n",
            "Requirement already satisfied, skipping upgrade: certifi>=2017.4.17 in /usr/local/lib/python3.7/dist-packages (from requests<3.0.0,>=2.13.0->spacy) (2021.5.30)\n",
            "Requirement already satisfied, skipping upgrade: urllib3!=1.25.0,!=1.25.1,<1.26,>=1.21.1 in /usr/local/lib/python3.7/dist-packages (from requests<3.0.0,>=2.13.0->spacy) (1.24.3)\n",
            "Requirement already satisfied, skipping upgrade: chardet<4,>=3.0.2 in /usr/local/lib/python3.7/dist-packages (from requests<3.0.0,>=2.13.0->spacy) (3.0.4)\n",
            "Requirement already satisfied, skipping upgrade: idna<3,>=2.5 in /usr/local/lib/python3.7/dist-packages (from requests<3.0.0,>=2.13.0->spacy) (2.10)\n",
            "Requirement already satisfied, skipping upgrade: smart-open<6.0.0,>=5.0.0 in /usr/local/lib/python3.7/dist-packages (from pathy>=0.3.5->spacy) (5.1.0)\n",
            "Requirement already satisfied, skipping upgrade: zipp>=0.5; python_version < \"3.8\" in /usr/local/lib/python3.7/dist-packages (from catalogue<2.1.0,>=2.0.4->spacy) (3.4.1)\n",
            "Requirement already satisfied, skipping upgrade: click<7.2.0,>=7.1.1 in /usr/local/lib/python3.7/dist-packages (from typer<0.4.0,>=0.3.0->spacy) (7.1.2)\n",
            "Requirement already satisfied, skipping upgrade: pyparsing>=2.0.2 in /usr/local/lib/python3.7/dist-packages (from packaging>=20.0->spacy) (2.4.7)\n",
            "Requirement already satisfied, skipping upgrade: MarkupSafe>=0.23 in /usr/local/lib/python3.7/dist-packages (from jinja2->spacy) (2.0.1)\n",
            "2021-07-10 01:04:51.203767: I tensorflow/stream_executor/platform/default/dso_loader.cc:53] Successfully opened dynamic library libcudart.so.11.0\n",
            "Requirement already satisfied: en-core-web-sm==3.1.0 from https://github.com/explosion/spacy-models/releases/download/en_core_web_sm-3.1.0/en_core_web_sm-3.1.0-py3-none-any.whl#egg=en_core_web_sm==3.1.0 in /usr/local/lib/python3.7/dist-packages (3.1.0)\n",
            "Requirement already satisfied: spacy<3.2.0,>=3.1.0 in /usr/local/lib/python3.7/dist-packages (from en-core-web-sm==3.1.0) (3.1.0)\n",
            "Requirement already satisfied: catalogue<2.1.0,>=2.0.4 in /usr/local/lib/python3.7/dist-packages (from spacy<3.2.0,>=3.1.0->en-core-web-sm==3.1.0) (2.0.4)\n",
            "Requirement already satisfied: typer<0.4.0,>=0.3.0 in /usr/local/lib/python3.7/dist-packages (from spacy<3.2.0,>=3.1.0->en-core-web-sm==3.1.0) (0.3.2)\n",
            "Requirement already satisfied: preshed<3.1.0,>=3.0.2 in /usr/local/lib/python3.7/dist-packages (from spacy<3.2.0,>=3.1.0->en-core-web-sm==3.1.0) (3.0.5)\n",
            "Requirement already satisfied: typing-extensions<4.0.0.0,>=3.7.4; python_version < \"3.8\" in /usr/local/lib/python3.7/dist-packages (from spacy<3.2.0,>=3.1.0->en-core-web-sm==3.1.0) (3.7.4.3)\n",
            "Requirement already satisfied: thinc<8.1.0,>=8.0.7 in /usr/local/lib/python3.7/dist-packages (from spacy<3.2.0,>=3.1.0->en-core-web-sm==3.1.0) (8.0.7)\n",
            "Requirement already satisfied: murmurhash<1.1.0,>=0.28.0 in /usr/local/lib/python3.7/dist-packages (from spacy<3.2.0,>=3.1.0->en-core-web-sm==3.1.0) (1.0.5)\n",
            "Requirement already satisfied: tqdm<5.0.0,>=4.38.0 in /usr/local/lib/python3.7/dist-packages (from spacy<3.2.0,>=3.1.0->en-core-web-sm==3.1.0) (4.41.1)\n",
            "Requirement already satisfied: spacy-legacy<3.1.0,>=3.0.7 in /usr/local/lib/python3.7/dist-packages (from spacy<3.2.0,>=3.1.0->en-core-web-sm==3.1.0) (3.0.8)\n",
            "Requirement already satisfied: numpy>=1.15.0 in /usr/local/lib/python3.7/dist-packages (from spacy<3.2.0,>=3.1.0->en-core-web-sm==3.1.0) (1.19.5)\n",
            "Requirement already satisfied: requests<3.0.0,>=2.13.0 in /usr/local/lib/python3.7/dist-packages (from spacy<3.2.0,>=3.1.0->en-core-web-sm==3.1.0) (2.23.0)\n",
            "Requirement already satisfied: jinja2 in /usr/local/lib/python3.7/dist-packages (from spacy<3.2.0,>=3.1.0->en-core-web-sm==3.1.0) (2.11.3)\n",
            "Requirement already satisfied: cymem<2.1.0,>=2.0.2 in /usr/local/lib/python3.7/dist-packages (from spacy<3.2.0,>=3.1.0->en-core-web-sm==3.1.0) (2.0.5)\n",
            "Requirement already satisfied: packaging>=20.0 in /usr/local/lib/python3.7/dist-packages (from spacy<3.2.0,>=3.1.0->en-core-web-sm==3.1.0) (20.9)\n",
            "Requirement already satisfied: pydantic!=1.8,!=1.8.1,<1.9.0,>=1.7.4 in /usr/local/lib/python3.7/dist-packages (from spacy<3.2.0,>=3.1.0->en-core-web-sm==3.1.0) (1.8.2)\n",
            "Requirement already satisfied: srsly<3.0.0,>=2.4.1 in /usr/local/lib/python3.7/dist-packages (from spacy<3.2.0,>=3.1.0->en-core-web-sm==3.1.0) (2.4.1)\n",
            "Requirement already satisfied: wasabi<1.1.0,>=0.8.1 in /usr/local/lib/python3.7/dist-packages (from spacy<3.2.0,>=3.1.0->en-core-web-sm==3.1.0) (0.8.2)\n",
            "Requirement already satisfied: blis<0.8.0,>=0.4.0 in /usr/local/lib/python3.7/dist-packages (from spacy<3.2.0,>=3.1.0->en-core-web-sm==3.1.0) (0.4.1)\n",
            "Requirement already satisfied: setuptools in /usr/local/lib/python3.7/dist-packages (from spacy<3.2.0,>=3.1.0->en-core-web-sm==3.1.0) (57.0.0)\n",
            "Requirement already satisfied: pathy>=0.3.5 in /usr/local/lib/python3.7/dist-packages (from spacy<3.2.0,>=3.1.0->en-core-web-sm==3.1.0) (0.6.0)\n",
            "Requirement already satisfied: zipp>=0.5; python_version < \"3.8\" in /usr/local/lib/python3.7/dist-packages (from catalogue<2.1.0,>=2.0.4->spacy<3.2.0,>=3.1.0->en-core-web-sm==3.1.0) (3.4.1)\n",
            "Requirement already satisfied: click<7.2.0,>=7.1.1 in /usr/local/lib/python3.7/dist-packages (from typer<0.4.0,>=0.3.0->spacy<3.2.0,>=3.1.0->en-core-web-sm==3.1.0) (7.1.2)\n",
            "Requirement already satisfied: chardet<4,>=3.0.2 in /usr/local/lib/python3.7/dist-packages (from requests<3.0.0,>=2.13.0->spacy<3.2.0,>=3.1.0->en-core-web-sm==3.1.0) (3.0.4)\n",
            "Requirement already satisfied: idna<3,>=2.5 in /usr/local/lib/python3.7/dist-packages (from requests<3.0.0,>=2.13.0->spacy<3.2.0,>=3.1.0->en-core-web-sm==3.1.0) (2.10)\n",
            "Requirement already satisfied: urllib3!=1.25.0,!=1.25.1,<1.26,>=1.21.1 in /usr/local/lib/python3.7/dist-packages (from requests<3.0.0,>=2.13.0->spacy<3.2.0,>=3.1.0->en-core-web-sm==3.1.0) (1.24.3)\n",
            "Requirement already satisfied: certifi>=2017.4.17 in /usr/local/lib/python3.7/dist-packages (from requests<3.0.0,>=2.13.0->spacy<3.2.0,>=3.1.0->en-core-web-sm==3.1.0) (2021.5.30)\n",
            "Requirement already satisfied: MarkupSafe>=0.23 in /usr/local/lib/python3.7/dist-packages (from jinja2->spacy<3.2.0,>=3.1.0->en-core-web-sm==3.1.0) (2.0.1)\n",
            "Requirement already satisfied: pyparsing>=2.0.2 in /usr/local/lib/python3.7/dist-packages (from packaging>=20.0->spacy<3.2.0,>=3.1.0->en-core-web-sm==3.1.0) (2.4.7)\n",
            "Requirement already satisfied: smart-open<6.0.0,>=5.0.0 in /usr/local/lib/python3.7/dist-packages (from pathy>=0.3.5->spacy<3.2.0,>=3.1.0->en-core-web-sm==3.1.0) (5.1.0)\n",
            "\u001b[38;5;2m✔ Download and installation successful\u001b[0m\n",
            "You can now load the package via spacy.load('en_core_web_sm')\n"
          ],
          "name": "stdout"
        }
      ]
    },
    {
      "cell_type": "code",
      "metadata": {
        "trusted": true,
        "id": "757cc152"
      },
      "source": [
        "import spacy\n",
        "from spacy import displacy \n",
        "nlp = spacy.load('en_core_web_sm')"
      ],
      "id": "757cc152",
      "execution_count": 42,
      "outputs": []
    },
    {
      "cell_type": "markdown",
      "metadata": {
        "id": "9e4ddeb0"
      },
      "source": [
        "### **Tokenization**"
      ],
      "id": "9e4ddeb0"
    },
    {
      "cell_type": "code",
      "metadata": {
        "trusted": true,
        "id": "3aafbd03"
      },
      "source": [
        "anglais_data = nlp(\"\"\"Perhaps one of the most significant advances made by Arabic mathematics began at this time with the work of al-Khwarizmi, namely\n",
        "the beginnings of algebra. It is important to understand just how significant this new idea was. It was a revolutionary move away from\n",
        "the Greek concept of mathematics which was essentially geometry. Algebra was a unifying theory which allowed rational\n",
        "numbers, irrational numbers, geometrical magnitudes, etc., to all be treated as \"algebraic objects\". It gave mathematics a whole new\n",
        "development path so much broader in concept to that which had existed before, and provided a vehicle for future development of the\n",
        "subject. Another important aspect of the introduction of algebraic ideas was that it allowed mathematics to be applied to itself in a\n",
        "way which had not happened before.\"\"\")"
      ],
      "id": "3aafbd03",
      "execution_count": 43,
      "outputs": []
    },
    {
      "cell_type": "code",
      "metadata": {
        "id": "28c846fe",
        "trusted": true
      },
      "source": [
        "from spacy.tokenizer import Tokenizer"
      ],
      "id": "28c846fe",
      "execution_count": 44,
      "outputs": []
    },
    {
      "cell_type": "code",
      "metadata": {
        "id": "55084d66",
        "scrolled": false,
        "trusted": true,
        "colab": {
          "base_uri": "https://localhost:8080/"
        },
        "outputId": "5934f5a1-b972-41dc-faee-f5e10678d8f9"
      },
      "source": [
        "for tok in anglais_data :\n",
        "    print(tok.text)"
      ],
      "id": "55084d66",
      "execution_count": 45,
      "outputs": [
        {
          "output_type": "stream",
          "text": [
            "Perhaps\n",
            "one\n",
            "of\n",
            "the\n",
            "most\n",
            "significant\n",
            "advances\n",
            "made\n",
            "by\n",
            "Arabic\n",
            "mathematics\n",
            "began\n",
            "at\n",
            "this\n",
            "time\n",
            "with\n",
            "the\n",
            "work\n",
            "of\n",
            "al\n",
            "-\n",
            "Khwarizmi\n",
            ",\n",
            "namely\n",
            "\n",
            "\n",
            "the\n",
            "beginnings\n",
            "of\n",
            "algebra\n",
            ".\n",
            "It\n",
            "is\n",
            "important\n",
            "to\n",
            "understand\n",
            "just\n",
            "how\n",
            "significant\n",
            "this\n",
            "new\n",
            "idea\n",
            "was\n",
            ".\n",
            "It\n",
            "was\n",
            "a\n",
            "revolutionary\n",
            "move\n",
            "away\n",
            "from\n",
            "\n",
            "\n",
            "the\n",
            "Greek\n",
            "concept\n",
            "of\n",
            "mathematics\n",
            "which\n",
            "was\n",
            "essentially\n",
            "geometry\n",
            ".\n",
            "Algebra\n",
            "was\n",
            "a\n",
            "unifying\n",
            "theory\n",
            "which\n",
            "allowed\n",
            "rational\n",
            "\n",
            "\n",
            "numbers\n",
            ",\n",
            "irrational\n",
            "numbers\n",
            ",\n",
            "geometrical\n",
            "magnitudes\n",
            ",\n",
            "etc\n",
            ".\n",
            ",\n",
            "to\n",
            "all\n",
            "be\n",
            "treated\n",
            "as\n",
            "\"\n",
            "algebraic\n",
            "objects\n",
            "\"\n",
            ".\n",
            "It\n",
            "gave\n",
            "mathematics\n",
            "a\n",
            "whole\n",
            "new\n",
            "\n",
            "\n",
            "development\n",
            "path\n",
            "so\n",
            "much\n",
            "broader\n",
            "in\n",
            "concept\n",
            "to\n",
            "that\n",
            "which\n",
            "had\n",
            "existed\n",
            "before\n",
            ",\n",
            "and\n",
            "provided\n",
            "a\n",
            "vehicle\n",
            "for\n",
            "future\n",
            "development\n",
            "of\n",
            "the\n",
            "\n",
            "\n",
            "subject\n",
            ".\n",
            "Another\n",
            "important\n",
            "aspect\n",
            "of\n",
            "the\n",
            "introduction\n",
            "of\n",
            "algebraic\n",
            "ideas\n",
            "was\n",
            "that\n",
            "it\n",
            "allowed\n",
            "mathematics\n",
            "to\n",
            "be\n",
            "applied\n",
            "to\n",
            "itself\n",
            "in\n",
            "a\n",
            "\n",
            "\n",
            "way\n",
            "which\n",
            "had\n",
            "not\n",
            "happened\n",
            "before\n",
            ".\n"
          ],
          "name": "stdout"
        }
      ]
    },
    {
      "cell_type": "markdown",
      "metadata": {
        "id": "ec99d2a6"
      },
      "source": [
        "### **Stop words**"
      ],
      "id": "ec99d2a6"
    },
    {
      "cell_type": "code",
      "metadata": {
        "id": "3d624720",
        "scrolled": false,
        "trusted": true
      },
      "source": [
        "spacy_stopword=spacy.lang.en.stop_words.STOP_WORDS"
      ],
      "id": "3d624720",
      "execution_count": 46,
      "outputs": []
    },
    {
      "cell_type": "code",
      "metadata": {
        "trusted": true,
        "colab": {
          "base_uri": "https://localhost:8080/"
        },
        "id": "7a41c7e4",
        "outputId": "5e9a380b-b505-4b31-cd78-36e62b50f9bb"
      },
      "source": [
        "print('Le nombre de stop words est : %d' % len(spacy_stopword))"
      ],
      "id": "7a41c7e4",
      "execution_count": 47,
      "outputs": [
        {
          "output_type": "stream",
          "text": [
            "Le nombre de stop words est : 326\n"
          ],
          "name": "stdout"
        }
      ]
    },
    {
      "cell_type": "code",
      "metadata": {
        "trusted": true,
        "colab": {
          "base_uri": "https://localhost:8080/"
        },
        "id": "1be051fe",
        "outputId": "0658373c-b57f-4264-aa86-5e051e0fed62"
      },
      "source": [
        "print('Premier 10 stop words : %s' % list(spacy_stopword)[:10])"
      ],
      "id": "1be051fe",
      "execution_count": 48,
      "outputs": [
        {
          "output_type": "stream",
          "text": [
            "Premier 10 stop words : ['very', 'more', 're', 'those', 'itself', 'its', 'unless', 'either', 'any', 'anything']\n"
          ],
          "name": "stdout"
        }
      ]
    },
    {
      "cell_type": "code",
      "metadata": {
        "trusted": true,
        "colab": {
          "base_uri": "https://localhost:8080/"
        },
        "id": "e0189e81",
        "outputId": "a411e18f-8ddb-4fa5-b83c-e919c4fc4fb1"
      },
      "source": [
        "# Suppression stop words\n",
        "\n",
        "filtered_sent=[]\n",
        "for word in anglais_data:\n",
        "  if word.is_stop==False:\n",
        "    filtered_sent.append(word)\n",
        "print(\"Filtered Sentences are :\",filtered_sent)"
      ],
      "id": "e0189e81",
      "execution_count": 49,
      "outputs": [
        {
          "output_type": "stream",
          "text": [
            "Filtered Sentences are : [significant, advances, Arabic, mathematics, began, time, work, al, -, Khwarizmi, ,, \n",
            ", beginnings, algebra, ., important, understand, significant, new, idea, ., revolutionary, away, \n",
            ", Greek, concept, mathematics, essentially, geometry, ., Algebra, unifying, theory, allowed, rational, \n",
            ", numbers, ,, irrational, numbers, ,, geometrical, magnitudes, ,, etc, ., ,, treated, \", algebraic, objects, \", ., gave, mathematics, new, \n",
            ", development, path, broader, concept, existed, ,, provided, vehicle, future, development, \n",
            ", subject, ., important, aspect, introduction, algebraic, ideas, allowed, mathematics, applied, \n",
            ", way, happened, .]\n"
          ],
          "name": "stdout"
        }
      ]
    },
    {
      "cell_type": "markdown",
      "metadata": {
        "id": "0e2b943e"
      },
      "source": [
        "### **Chunking**"
      ],
      "id": "0e2b943e"
    },
    {
      "cell_type": "code",
      "metadata": {
        "id": "0b70d959",
        "scrolled": true,
        "trusted": true,
        "colab": {
          "base_uri": "https://localhost:8080/"
        },
        "outputId": "907df0a8-7426-437e-f343-b0b3b11ce4a3"
      },
      "source": [
        "for chunk in anglais_data.noun_chunks:\n",
        "    print(chunk.text, \"->\", chunk.label_)"
      ],
      "id": "0b70d959",
      "execution_count": 50,
      "outputs": [
        {
          "output_type": "stream",
          "text": [
            "the most significant advances -> NP\n",
            "Arabic mathematics -> NP\n",
            "this time -> NP\n",
            "the work -> NP\n",
            "al-Khwarizmi -> NP\n",
            "the beginnings -> NP\n",
            "algebra -> NP\n",
            "It -> NP\n",
            "this new idea -> NP\n",
            "It -> NP\n",
            "a revolutionary move -> NP\n",
            "the Greek concept -> NP\n",
            "mathematics -> NP\n",
            "essentially geometry -> NP\n",
            "Algebra -> NP\n",
            "a unifying theory -> NP\n",
            "rational\n",
            "numbers -> NP\n",
            "irrational numbers -> NP\n",
            "geometrical magnitudes -> NP\n",
            "\"algebraic objects -> NP\n",
            "It -> NP\n",
            "mathematics -> NP\n",
            "a whole new\n",
            "development path -> NP\n",
            "concept -> NP\n",
            "a vehicle -> NP\n",
            "future development -> NP\n",
            "the\n",
            "subject -> NP\n",
            "Another important aspect -> NP\n",
            "the introduction -> NP\n",
            "algebraic ideas -> NP\n",
            "it -> NP\n",
            "mathematics -> NP\n",
            "itself -> NP\n",
            "a\n",
            "way -> NP\n"
          ],
          "name": "stdout"
        }
      ]
    },
    {
      "cell_type": "code",
      "metadata": {
        "id": "f20e4881",
        "trusted": true,
        "colab": {
          "base_uri": "https://localhost:8080/"
        },
        "outputId": "23f1ca9e-0ec3-4892-aea4-33f4cf935a0e"
      },
      "source": [
        "for e in anglais_data.ents:\n",
        "    print(e.text, e.label_)"
      ],
      "id": "f20e4881",
      "execution_count": 51,
      "outputs": [
        {
          "output_type": "stream",
          "text": [
            "Arabic mathematics NORP\n",
            "al-Khwarizmi GPE\n",
            "Greek NORP\n"
          ],
          "name": "stdout"
        }
      ]
    },
    {
      "cell_type": "markdown",
      "metadata": {
        "id": "9b309a98"
      },
      "source": [
        "### **Pos Tagging**"
      ],
      "id": "9b309a98"
    },
    {
      "cell_type": "code",
      "metadata": {
        "id": "a8004e6b",
        "trusted": true,
        "colab": {
          "base_uri": "https://localhost:8080/"
        },
        "outputId": "8dfb8cb4-b7c4-4918-b43e-a156725beae0"
      },
      "source": [
        "for word in anglais_data :\n",
        "  print(word.text, \" : \", word.pos_,\" : \",word.tag_)"
      ],
      "id": "a8004e6b",
      "execution_count": 52,
      "outputs": [
        {
          "output_type": "stream",
          "text": [
            "Perhaps  :  ADV  :  RB\n",
            "one  :  NUM  :  CD\n",
            "of  :  ADP  :  IN\n",
            "the  :  DET  :  DT\n",
            "most  :  ADV  :  RBS\n",
            "significant  :  ADJ  :  JJ\n",
            "advances  :  NOUN  :  NNS\n",
            "made  :  VERB  :  VBN\n",
            "by  :  ADP  :  IN\n",
            "Arabic  :  ADJ  :  JJ\n",
            "mathematics  :  NOUN  :  NNS\n",
            "began  :  VERB  :  VBD\n",
            "at  :  ADP  :  IN\n",
            "this  :  DET  :  DT\n",
            "time  :  NOUN  :  NN\n",
            "with  :  ADP  :  IN\n",
            "the  :  DET  :  DT\n",
            "work  :  NOUN  :  NN\n",
            "of  :  ADP  :  IN\n",
            "al  :  PROPN  :  NNP\n",
            "-  :  PUNCT  :  HYPH\n",
            "Khwarizmi  :  PROPN  :  NNP\n",
            ",  :  PUNCT  :  ,\n",
            "namely  :  ADV  :  RB\n",
            "\n",
            "  :  SPACE  :  _SP\n",
            "the  :  DET  :  DT\n",
            "beginnings  :  NOUN  :  NNS\n",
            "of  :  ADP  :  IN\n",
            "algebra  :  PROPN  :  NNP\n",
            ".  :  PUNCT  :  .\n",
            "It  :  PRON  :  PRP\n",
            "is  :  AUX  :  VBZ\n",
            "important  :  ADJ  :  JJ\n",
            "to  :  PART  :  TO\n",
            "understand  :  VERB  :  VB\n",
            "just  :  ADV  :  RB\n",
            "how  :  ADV  :  WRB\n",
            "significant  :  ADJ  :  JJ\n",
            "this  :  DET  :  DT\n",
            "new  :  ADJ  :  JJ\n",
            "idea  :  NOUN  :  NN\n",
            "was  :  AUX  :  VBD\n",
            ".  :  PUNCT  :  .\n",
            "It  :  PRON  :  PRP\n",
            "was  :  AUX  :  VBD\n",
            "a  :  DET  :  DT\n",
            "revolutionary  :  ADJ  :  JJ\n",
            "move  :  NOUN  :  NN\n",
            "away  :  ADV  :  RB\n",
            "from  :  ADP  :  IN\n",
            "\n",
            "  :  SPACE  :  _SP\n",
            "the  :  DET  :  DT\n",
            "Greek  :  ADJ  :  JJ\n",
            "concept  :  NOUN  :  NN\n",
            "of  :  ADP  :  IN\n",
            "mathematics  :  NOUN  :  NNS\n",
            "which  :  DET  :  WDT\n",
            "was  :  VERB  :  VBD\n",
            "essentially  :  ADV  :  RB\n",
            "geometry  :  NOUN  :  NN\n",
            ".  :  PUNCT  :  .\n",
            "Algebra  :  PROPN  :  NNP\n",
            "was  :  AUX  :  VBD\n",
            "a  :  DET  :  DT\n",
            "unifying  :  ADJ  :  JJ\n",
            "theory  :  NOUN  :  NN\n",
            "which  :  DET  :  WDT\n",
            "allowed  :  VERB  :  VBD\n",
            "rational  :  ADJ  :  JJ\n",
            "\n",
            "  :  SPACE  :  _SP\n",
            "numbers  :  NOUN  :  NNS\n",
            ",  :  PUNCT  :  ,\n",
            "irrational  :  ADJ  :  JJ\n",
            "numbers  :  NOUN  :  NNS\n",
            ",  :  PUNCT  :  ,\n",
            "geometrical  :  ADJ  :  JJ\n",
            "magnitudes  :  NOUN  :  NNS\n",
            ",  :  PUNCT  :  ,\n",
            "etc  :  X  :  FW\n",
            ".  :  X  :  FW\n",
            ",  :  PUNCT  :  ,\n",
            "to  :  AUX  :  IN\n",
            "all  :  DET  :  DT\n",
            "be  :  AUX  :  VB\n",
            "treated  :  VERB  :  VBN\n",
            "as  :  ADP  :  IN\n",
            "\"  :  PUNCT  :  ``\n",
            "algebraic  :  ADJ  :  JJ\n",
            "objects  :  NOUN  :  NNS\n",
            "\"  :  PUNCT  :  ''\n",
            ".  :  PUNCT  :  .\n",
            "It  :  PRON  :  PRP\n",
            "gave  :  VERB  :  VBD\n",
            "mathematics  :  NOUN  :  NNS\n",
            "a  :  DET  :  DT\n",
            "whole  :  ADJ  :  JJ\n",
            "new  :  ADJ  :  JJ\n",
            "\n",
            "  :  SPACE  :  _SP\n",
            "development  :  NOUN  :  NN\n",
            "path  :  NOUN  :  NN\n",
            "so  :  ADV  :  RB\n",
            "much  :  ADV  :  RB\n",
            "broader  :  ADJ  :  JJR\n",
            "in  :  ADP  :  IN\n",
            "concept  :  NOUN  :  NN\n",
            "to  :  ADP  :  IN\n",
            "that  :  DET  :  DT\n",
            "which  :  DET  :  WDT\n",
            "had  :  AUX  :  VBD\n",
            "existed  :  VERB  :  VBN\n",
            "before  :  ADV  :  RB\n",
            ",  :  PUNCT  :  ,\n",
            "and  :  CCONJ  :  CC\n",
            "provided  :  VERB  :  VBD\n",
            "a  :  DET  :  DT\n",
            "vehicle  :  NOUN  :  NN\n",
            "for  :  ADP  :  IN\n",
            "future  :  ADJ  :  JJ\n",
            "development  :  NOUN  :  NN\n",
            "of  :  ADP  :  IN\n",
            "the  :  DET  :  DT\n",
            "\n",
            "  :  SPACE  :  _SP\n",
            "subject  :  NOUN  :  NN\n",
            ".  :  PUNCT  :  .\n",
            "Another  :  DET  :  DT\n",
            "important  :  ADJ  :  JJ\n",
            "aspect  :  NOUN  :  NN\n",
            "of  :  ADP  :  IN\n",
            "the  :  DET  :  DT\n",
            "introduction  :  NOUN  :  NN\n",
            "of  :  ADP  :  IN\n",
            "algebraic  :  ADJ  :  JJ\n",
            "ideas  :  NOUN  :  NNS\n",
            "was  :  AUX  :  VBD\n",
            "that  :  SCONJ  :  IN\n",
            "it  :  PRON  :  PRP\n",
            "allowed  :  VERB  :  VBD\n",
            "mathematics  :  NOUN  :  NNS\n",
            "to  :  PART  :  TO\n",
            "be  :  AUX  :  VB\n",
            "applied  :  VERB  :  VBN\n",
            "to  :  ADP  :  IN\n",
            "itself  :  PRON  :  PRP\n",
            "in  :  ADP  :  IN\n",
            "a  :  DET  :  DT\n",
            "\n",
            "  :  SPACE  :  _SP\n",
            "way  :  NOUN  :  NN\n",
            "which  :  DET  :  WDT\n",
            "had  :  AUX  :  VBD\n",
            "not  :  PART  :  RB\n",
            "happened  :  VERB  :  VBN\n",
            "before  :  ADV  :  RB\n",
            ".  :  PUNCT  :  .\n"
          ],
          "name": "stdout"
        }
      ]
    },
    {
      "cell_type": "markdown",
      "metadata": {
        "id": "86cab92c"
      },
      "source": [
        "### **Lemmatization**"
      ],
      "id": "86cab92c"
    },
    {
      "cell_type": "code",
      "metadata": {
        "trusted": true,
        "colab": {
          "base_uri": "https://localhost:8080/"
        },
        "id": "595b196f",
        "outputId": "3dd85491-90f0-41dd-c510-afb8b7d61dab"
      },
      "source": [
        "for lem in anglais_data:\n",
        "   print (lem.text + '->', lem.lemma_)"
      ],
      "id": "595b196f",
      "execution_count": 53,
      "outputs": [
        {
          "output_type": "stream",
          "text": [
            "Perhaps-> perhaps\n",
            "one-> one\n",
            "of-> of\n",
            "the-> the\n",
            "most-> most\n",
            "significant-> significant\n",
            "advances-> advance\n",
            "made-> make\n",
            "by-> by\n",
            "Arabic-> arabic\n",
            "mathematics-> mathematic\n",
            "began-> begin\n",
            "at-> at\n",
            "this-> this\n",
            "time-> time\n",
            "with-> with\n",
            "the-> the\n",
            "work-> work\n",
            "of-> of\n",
            "al-> al\n",
            "--> -\n",
            "Khwarizmi-> Khwarizmi\n",
            ",-> ,\n",
            "namely-> namely\n",
            "\n",
            "-> \n",
            "\n",
            "the-> the\n",
            "beginnings-> beginning\n",
            "of-> of\n",
            "algebra-> algebra\n",
            ".-> .\n",
            "It-> it\n",
            "is-> be\n",
            "important-> important\n",
            "to-> to\n",
            "understand-> understand\n",
            "just-> just\n",
            "how-> how\n",
            "significant-> significant\n",
            "this-> this\n",
            "new-> new\n",
            "idea-> idea\n",
            "was-> be\n",
            ".-> .\n",
            "It-> it\n",
            "was-> be\n",
            "a-> a\n",
            "revolutionary-> revolutionary\n",
            "move-> move\n",
            "away-> away\n",
            "from-> from\n",
            "\n",
            "-> \n",
            "\n",
            "the-> the\n",
            "Greek-> greek\n",
            "concept-> concept\n",
            "of-> of\n",
            "mathematics-> mathematic\n",
            "which-> which\n",
            "was-> be\n",
            "essentially-> essentially\n",
            "geometry-> geometry\n",
            ".-> .\n",
            "Algebra-> Algebra\n",
            "was-> be\n",
            "a-> a\n",
            "unifying-> unifying\n",
            "theory-> theory\n",
            "which-> which\n",
            "allowed-> allow\n",
            "rational-> rational\n",
            "\n",
            "-> \n",
            "\n",
            "numbers-> number\n",
            ",-> ,\n",
            "irrational-> irrational\n",
            "numbers-> number\n",
            ",-> ,\n",
            "geometrical-> geometrical\n",
            "magnitudes-> magnitude\n",
            ",-> ,\n",
            "etc-> etc\n",
            ".-> .\n",
            ",-> ,\n",
            "to-> to\n",
            "all-> all\n",
            "be-> be\n",
            "treated-> treat\n",
            "as-> as\n",
            "\"-> \"\n",
            "algebraic-> algebraic\n",
            "objects-> object\n",
            "\"-> \"\n",
            ".-> .\n",
            "It-> it\n",
            "gave-> give\n",
            "mathematics-> mathematic\n",
            "a-> a\n",
            "whole-> whole\n",
            "new-> new\n",
            "\n",
            "-> \n",
            "\n",
            "development-> development\n",
            "path-> path\n",
            "so-> so\n",
            "much-> much\n",
            "broader-> broad\n",
            "in-> in\n",
            "concept-> concept\n",
            "to-> to\n",
            "that-> that\n",
            "which-> which\n",
            "had-> have\n",
            "existed-> exist\n",
            "before-> before\n",
            ",-> ,\n",
            "and-> and\n",
            "provided-> provide\n",
            "a-> a\n",
            "vehicle-> vehicle\n",
            "for-> for\n",
            "future-> future\n",
            "development-> development\n",
            "of-> of\n",
            "the-> the\n",
            "\n",
            "-> \n",
            "\n",
            "subject-> subject\n",
            ".-> .\n",
            "Another-> another\n",
            "important-> important\n",
            "aspect-> aspect\n",
            "of-> of\n",
            "the-> the\n",
            "introduction-> introduction\n",
            "of-> of\n",
            "algebraic-> algebraic\n",
            "ideas-> idea\n",
            "was-> be\n",
            "that-> that\n",
            "it-> it\n",
            "allowed-> allow\n",
            "mathematics-> mathematic\n",
            "to-> to\n",
            "be-> be\n",
            "applied-> apply\n",
            "to-> to\n",
            "itself-> itself\n",
            "in-> in\n",
            "a-> a\n",
            "\n",
            "-> \n",
            "\n",
            "way-> way\n",
            "which-> which\n",
            "had-> have\n",
            "not-> not\n",
            "happened-> happen\n",
            "before-> before\n",
            ".-> .\n"
          ],
          "name": "stdout"
        }
      ]
    },
    {
      "cell_type": "code",
      "metadata": {
        "trusted": true,
        "id": "3cd58c0d"
      },
      "source": [
        ""
      ],
      "id": "3cd58c0d",
      "execution_count": 53,
      "outputs": []
    }
  ]
}