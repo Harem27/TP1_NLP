{
  "nbformat": 4,
  "nbformat_minor": 0,
  "metadata": {
    "kernelspec": {
      "display_name": "Python 3",
      "language": "python",
      "name": "python3"
    },
    "language_info": {
      "codemirror_mode": {
        "name": "ipython",
        "version": 3
      },
      "file_extension": ".py",
      "mimetype": "text/x-python",
      "name": "python",
      "nbconvert_exporter": "python",
      "pygments_lexer": "ipython3",
      "version": "3.8.8"
    },
    "colab": {
      "name": "NLTK_marwane.ipynb",
      "provenance": [],
      "collapsed_sections": [
        "T4FliuXfMlmV",
        "xcpa31KYMlmb",
        "Oe9CYpCfMlmd",
        "0fCx5-5zMlmp"
      ]
    }
  },
  "cells": [
    {
      "cell_type": "markdown",
      "metadata": {
        "id": "ZkvJozzjMll0"
      },
      "source": [
        "#  TP1:    **Natural Language Processing Bibliothèque NLTK**"
      ]
    },
    {
      "cell_type": "markdown",
      "metadata": {
        "id": "HJLRcD8iMll-"
      },
      "source": [
        "### **Importation Bibliothèques**"
      ]
    },
    {
      "cell_type": "code",
      "metadata": {
        "colab": {
          "base_uri": "https://localhost:8080/"
        },
        "id": "ghTQpSiDMll_",
        "outputId": "cacd4b54-80bd-4fac-9e16-b428e40b475c"
      },
      "source": [
        "!pip install nltk"
      ],
      "execution_count": 81,
      "outputs": [
        {
          "output_type": "stream",
          "text": [
            "Requirement already satisfied: nltk in /usr/local/lib/python3.7/dist-packages (3.2.5)\n",
            "Requirement already satisfied: six in /usr/local/lib/python3.7/dist-packages (from nltk) (1.15.0)\n"
          ],
          "name": "stdout"
        }
      ]
    },
    {
      "cell_type": "code",
      "metadata": {
        "id": "iVwsUT2TMlmD"
      },
      "source": [
        "import nltk, string\n"
      ],
      "execution_count": 82,
      "outputs": []
    },
    {
      "cell_type": "markdown",
      "metadata": {
        "id": "bMuda13oMlmE"
      },
      "source": [
        "### **Importation  data**"
      ]
    },
    {
      "cell_type": "code",
      "metadata": {
        "id": "zQA4j-gWMlmG"
      },
      "source": [
        "anglais_data = \"\"\"Perhaps one of the most significant advances made by Arabic mathematics began at this time with the work of al-Khwarizmi, namely the beginnings of algebra. It is important to understand just how significant this new idea was. It was a revolutionary move away from the Greek concept of mathematics which was essentially geometry. Algebra was a unifying theory which allowedrational numbers,irrational numbers, geometrical magnitudes, etc., to all be treated as \\\"algebraic objects\\\". It gave mathematics a whole new development path so much broader in concept to that which had existed before, and provided a vehicle for future development of the subject. Another important aspect of the introduction of algebraic ideas was that it allowed mathematics to be applied to itselfin a way which had not happened before.\"\"\""
      ],
      "execution_count": 83,
      "outputs": []
    },
    {
      "cell_type": "code",
      "metadata": {
        "colab": {
          "base_uri": "https://localhost:8080/",
          "height": 122
        },
        "id": "eokU3mwYMlmI",
        "outputId": "4401937c-5cb8-467c-c83b-97a5fc6d3ed2"
      },
      "source": [
        "anglais_data"
      ],
      "execution_count": 84,
      "outputs": [
        {
          "output_type": "execute_result",
          "data": {
            "application/vnd.google.colaboratory.intrinsic+json": {
              "type": "string"
            },
            "text/plain": [
              "'Perhaps one of the most significant advances made by Arabic mathematics began at this time with the work of al-Khwarizmi, namely the beginnings of algebra. It is important to understand just how significant this new idea was. It was a revolutionary move away from the Greek concept of mathematics which was essentially geometry. Algebra was a unifying theory which allowedrational numbers,irrational numbers, geometrical magnitudes, etc., to all be treated as \"algebraic objects\". It gave mathematics a whole new development path so much broader in concept to that which had existed before, and provided a vehicle for future development of the subject. Another important aspect of the introduction of algebraic ideas was that it allowed mathematics to be applied to itselfin a way which had not happened before.'"
            ]
          },
          "metadata": {
            "tags": []
          },
          "execution_count": 84
        }
      ]
    },
    {
      "cell_type": "code",
      "metadata": {
        "id": "auyGXed_MlmJ"
      },
      "source": [
        "arabe_data =\"\"\"ربما كانت أحد أهم التطورات التي قامت بها الرياضيات العربية التي بدأت في هذا الوقت بعمل الخوارزمي وهي بدايات الجبر, ومن المهم فهم كيف كانت هذه الفكرة الجديدة مهمة, فقد كانت خطوة نورية بعيدا عن المفهوم اليوناني للرياضيات التي هي في جوهرها هندسة, الجبر کان نظرية موحدة تتيح الأعداد الكسرية والأعداد اللا كسرية, والمقادير الهندسية وغيرها, أن تتعامل على أنها أجسام جبرية, وأعطت الرياضيات ككل مسارا جديدا للتطور بمفهوم أوسع بكثير من الذي كان موجودا من قبل, وقم وسيلة للتنمية في هذا الموضوع مستقبلا. وجانب آخر مهم لإدخال أفكار الجبر وهو أنه سمح بتطبيق الرياضيات على نفسها بطريقة لم تحدث من قبل\"\"\""
      ],
      "execution_count": 85,
      "outputs": []
    },
    {
      "cell_type": "code",
      "metadata": {
        "colab": {
          "base_uri": "https://localhost:8080/",
          "height": 70
        },
        "id": "816aQleXMlmL",
        "outputId": "e976e839-c1d7-4881-9eff-c7318c6b1f15"
      },
      "source": [
        "arabe_data"
      ],
      "execution_count": 86,
      "outputs": [
        {
          "output_type": "execute_result",
          "data": {
            "application/vnd.google.colaboratory.intrinsic+json": {
              "type": "string"
            },
            "text/plain": [
              "'ربما كانت أحد أهم التطورات التي قامت بها الرياضيات العربية التي بدأت في هذا الوقت بعمل الخوارزمي وهي بدايات الجبر, ومن المهم فهم كيف كانت هذه الفكرة الجديدة مهمة, فقد كانت خطوة نورية بعيدا عن المفهوم اليوناني للرياضيات التي هي في جوهرها هندسة, الجبر کان نظرية موحدة تتيح الأعداد الكسرية والأعداد اللا كسرية, والمقادير الهندسية وغيرها, أن تتعامل على أنها أجسام جبرية, وأعطت الرياضيات ككل مسارا جديدا للتطور بمفهوم أوسع بكثير من الذي كان موجودا من قبل, وقم وسيلة للتنمية في هذا الموضوع مستقبلا. وجانب آخر مهم لإدخال أفكار الجبر وهو أنه سمح بتطبيق الرياضيات على نفسها بطريقة لم تحدث من قبل'"
            ]
          },
          "metadata": {
            "tags": []
          },
          "execution_count": 86
        }
      ]
    },
    {
      "cell_type": "markdown",
      "metadata": {
        "id": "7dsjuwQWMlmN"
      },
      "source": [
        "### Netoiyage Data"
      ]
    },
    {
      "cell_type": "markdown",
      "metadata": {
        "id": "ty6IM2onMlmO"
      },
      "source": [
        "#### Lower Case"
      ]
    },
    {
      "cell_type": "code",
      "metadata": {
        "id": "j8NQpnRFMlmP"
      },
      "source": [
        "anglais_data= anglais_data.lower()"
      ],
      "execution_count": 87,
      "outputs": []
    },
    {
      "cell_type": "markdown",
      "metadata": {
        "id": "UgtC5hQIMlmQ"
      },
      "source": [
        "#### Eliminate Ponctuation : this step is not important becouse not change our content  "
      ]
    },
    {
      "cell_type": "code",
      "metadata": {
        "id": "oC4wknu3MlmR"
      },
      "source": [
        "#anglais_data_clear = ''.join([x for x in anglais_data if x not in string.punctuation])\n",
        "#anglais_data_clear = ''.join([x for x in anglais_data if x not in string.punctuation])"
      ],
      "execution_count": 88,
      "outputs": []
    },
    {
      "cell_type": "code",
      "metadata": {
        "id": "_-3x-0qwMlmS"
      },
      "source": [
        "#print(anglais_data_clear)\n",
        "#print(anglais_data_clear)"
      ],
      "execution_count": 89,
      "outputs": []
    },
    {
      "cell_type": "markdown",
      "metadata": {
        "id": "JDM3XfKlMlmT"
      },
      "source": [
        "###  **Tokinization**"
      ]
    },
    {
      "cell_type": "code",
      "metadata": {
        "id": "0jAcmdcxMlmT"
      },
      "source": [
        "from nltk.tokenize import sent_tokenize, word_tokenize"
      ],
      "execution_count": 90,
      "outputs": []
    },
    {
      "cell_type": "markdown",
      "metadata": {
        "id": "sm-ioabMMlmT"
      },
      "source": [
        "#### **Tokenizing by word**"
      ]
    },
    {
      "cell_type": "code",
      "metadata": {
        "colab": {
          "base_uri": "https://localhost:8080/"
        },
        "id": "hbNdRqB3M8fG",
        "outputId": "13e610b1-278c-4d8d-92bf-d2396c436091"
      },
      "source": [
        "nltk.download('punkt')"
      ],
      "execution_count": 91,
      "outputs": [
        {
          "output_type": "stream",
          "text": [
            "[nltk_data] Downloading package punkt to /root/nltk_data...\n",
            "[nltk_data]   Package punkt is already up-to-date!\n"
          ],
          "name": "stdout"
        },
        {
          "output_type": "execute_result",
          "data": {
            "text/plain": [
              "True"
            ]
          },
          "metadata": {
            "tags": []
          },
          "execution_count": 91
        }
      ]
    },
    {
      "cell_type": "code",
      "metadata": {
        "id": "wZRl3pE8MlmU"
      },
      "source": [
        "anglais_words =nltk.word_tokenize(anglais_data)\n",
        "arabe_words = nltk.word_tokenize(arabe_data)"
      ],
      "execution_count": 92,
      "outputs": []
    },
    {
      "cell_type": "markdown",
      "metadata": {
        "id": "gWS2KHVzMlmU"
      },
      "source": [
        "# **Résultas**"
      ]
    },
    {
      "cell_type": "code",
      "metadata": {
        "colab": {
          "base_uri": "https://localhost:8080/"
        },
        "id": "oBkNYe7SMlmV",
        "outputId": "37f32441-64a7-41bc-89b2-369413b691ef"
      },
      "source": [
        "print(anglais_words )\n",
        "print(arabe_words)"
      ],
      "execution_count": 93,
      "outputs": [
        {
          "output_type": "stream",
          "text": [
            "['perhaps', 'one', 'of', 'the', 'most', 'significant', 'advances', 'made', 'by', 'arabic', 'mathematics', 'began', 'at', 'this', 'time', 'with', 'the', 'work', 'of', 'al-khwarizmi', ',', 'namely', 'the', 'beginnings', 'of', 'algebra', '.', 'it', 'is', 'important', 'to', 'understand', 'just', 'how', 'significant', 'this', 'new', 'idea', 'was', '.', 'it', 'was', 'a', 'revolutionary', 'move', 'away', 'from', 'the', 'greek', 'concept', 'of', 'mathematics', 'which', 'was', 'essentially', 'geometry', '.', 'algebra', 'was', 'a', 'unifying', 'theory', 'which', 'allowedrational', 'numbers', ',', 'irrational', 'numbers', ',', 'geometrical', 'magnitudes', ',', 'etc.', ',', 'to', 'all', 'be', 'treated', 'as', '``', 'algebraic', 'objects', \"''\", '.', 'it', 'gave', 'mathematics', 'a', 'whole', 'new', 'development', 'path', 'so', 'much', 'broader', 'in', 'concept', 'to', 'that', 'which', 'had', 'existed', 'before', ',', 'and', 'provided', 'a', 'vehicle', 'for', 'future', 'development', 'of', 'the', 'subject', '.', 'another', 'important', 'aspect', 'of', 'the', 'introduction', 'of', 'algebraic', 'ideas', 'was', 'that', 'it', 'allowed', 'mathematics', 'to', 'be', 'applied', 'to', 'itselfin', 'a', 'way', 'which', 'had', 'not', 'happened', 'before', '.']\n",
            "['ربما', 'كانت', 'أحد', 'أهم', 'التطورات', 'التي', 'قامت', 'بها', 'الرياضيات', 'العربية', 'التي', 'بدأت', 'في', 'هذا', 'الوقت', 'بعمل', 'الخوارزمي', 'وهي', 'بدايات', 'الجبر', ',', 'ومن', 'المهم', 'فهم', 'كيف', 'كانت', 'هذه', 'الفكرة', 'الجديدة', 'مهمة', ',', 'فقد', 'كانت', 'خطوة', 'نورية', 'بعيدا', 'عن', 'المفهوم', 'اليوناني', 'للرياضيات', 'التي', 'هي', 'في', 'جوهرها', 'هندسة', ',', 'الجبر', 'کان', 'نظرية', 'موحدة', 'تتيح', 'الأعداد', 'الكسرية', 'والأعداد', 'اللا', 'كسرية', ',', 'والمقادير', 'الهندسية', 'وغيرها', ',', 'أن', 'تتعامل', 'على', 'أنها', 'أجسام', 'جبرية', ',', 'وأعطت', 'الرياضيات', 'ككل', 'مسارا', 'جديدا', 'للتطور', 'بمفهوم', 'أوسع', 'بكثير', 'من', 'الذي', 'كان', 'موجودا', 'من', 'قبل', ',', 'وقم', 'وسيلة', 'للتنمية', 'في', 'هذا', 'الموضوع', 'مستقبلا', '.', 'وجانب', 'آخر', 'مهم', 'لإدخال', 'أفكار', 'الجبر', 'وهو', 'أنه', 'سمح', 'بتطبيق', 'الرياضيات', 'على', 'نفسها', 'بطريقة', 'لم', 'تحدث', 'من', 'قبل']\n"
          ],
          "name": "stdout"
        }
      ]
    },
    {
      "cell_type": "markdown",
      "metadata": {
        "id": "T4FliuXfMlmV"
      },
      "source": [
        "#### **Tokenizing by sentence**"
      ]
    },
    {
      "cell_type": "code",
      "metadata": {
        "id": "y5kNeMlsMlmW"
      },
      "source": [
        "eng_sent = sent_tokenize(english_text)\n",
        "ar_sent = sent_tokenize(arabic_text)"
      ],
      "execution_count": 94,
      "outputs": []
    },
    {
      "cell_type": "code",
      "metadata": {
        "colab": {
          "base_uri": "https://localhost:8080/"
        },
        "id": "HUctdsCWMlmW",
        "outputId": "c2251023-fd7f-423d-c5cf-98053d8035db"
      },
      "source": [
        "print(eng_sent)"
      ],
      "execution_count": 95,
      "outputs": [
        {
          "output_type": "stream",
          "text": [
            "['perhaps one of the most significant advances made by arabic mathematics began at this time with the work of al-khwarizmi, namely the beginnings of algebra.', 'it is important to understand just how significant this new idea was.', 'it was a revolutionary move away from the greek concept of mathematics which was essentially geometry.', 'algebra was a unifying theory which allowedrational numbers,irrational numbers, geometrical magnitudes, etc., to all be treated as \"algebraic objects\".', 'it gave mathematics a whole new development path so much broader in concept to that which had existed before, and provided a vehicle for future development of the subject.', 'another important aspect of the introduction of algebraic ideas was that it allowed mathematics to be applied to itselfin a way which had not happened before.']\n"
          ],
          "name": "stdout"
        }
      ]
    },
    {
      "cell_type": "code",
      "metadata": {
        "colab": {
          "base_uri": "https://localhost:8080/"
        },
        "id": "5m3aBSoEMlmX",
        "outputId": "be938a74-8675-44bb-c77e-a84596623131"
      },
      "source": [
        "print(ar_sent)"
      ],
      "execution_count": 96,
      "outputs": [
        {
          "output_type": "stream",
          "text": [
            "['ربما كانت أحد أهم التطورات التي قامت بها الرياضيات العربية التي بدأت في هذا الوقت بعمل الخوارزمي وهي بدايات الجبر, ومن المهم فهم كيف كانت هذه الفكرة الجديدة مهمة, فقد كانت خطوة نورية بعيدا عن المفهوم اليوناني للرياضيات التي هي في جوهرها هندسة, الجبر کان نظرية موحدة تتيح الأعداد الكسرية والأعداد اللا كسرية, والمقادير الهندسية وغيرها, أن تتعامل على أنها أجسام جبرية, وأعطت الرياضيات ككل مسارا جديدا للتطور بمفهوم أوسع بكثير من الذي كان موجودا من قبل, وقم وسيلة للتنمية في هذا الموضوع مستقبلا.', 'وجانب آخر مهم لإدخال أفكار الجبر وهو أنه سمح بتطبيق الرياضيات على نفسها بطريقة لم تحدث من قبل']\n"
          ],
          "name": "stdout"
        }
      ]
    },
    {
      "cell_type": "markdown",
      "metadata": {
        "id": "qG1ufGQUMlmY"
      },
      "source": [
        "<B>Tokenizing sentences</b>\n",
        "\n",
        "The same principle can be applied to sentences. Simply change the to sent_tokenize()\n",
        "We have added two sentences to the variable data:\n",
        "        \n",
        "          "
      ]
    },
    {
      "cell_type": "markdown",
      "metadata": {
        "id": "ZN63WA5TMlmY"
      },
      "source": [
        "## **Filtering Stop Words**"
      ]
    },
    {
      "cell_type": "markdown",
      "metadata": {
        "id": "4ZTg5-1BMlmZ"
      },
      "source": [
        "Stop words are words that we want to ignore, so we filter them out of our text when we’re processing it."
      ]
    },
    {
      "cell_type": "code",
      "metadata": {
        "colab": {
          "base_uri": "https://localhost:8080/"
        },
        "id": "bYVooLS4MlmZ",
        "outputId": "4f678148-78b0-4b92-9280-77ed26795041"
      },
      "source": [
        "nltk.download(\"stopwords\")\n",
        "from nltk.corpus import stopwords"
      ],
      "execution_count": 97,
      "outputs": [
        {
          "output_type": "stream",
          "text": [
            "[nltk_data] Downloading package stopwords to /root/nltk_data...\n",
            "[nltk_data]   Package stopwords is already up-to-date!\n"
          ],
          "name": "stdout"
        }
      ]
    },
    {
      "cell_type": "code",
      "metadata": {
        "id": "wf_3EAv9MlmZ"
      },
      "source": [
        "stop_words_anglais = set(stopwords.words(\"english\"))\n",
        "stop_words_arabe = set(stopwords.words(\"arabic\"))"
      ],
      "execution_count": 98,
      "outputs": []
    },
    {
      "cell_type": "markdown",
      "metadata": {
        "id": "uYE8NW7jMlmZ"
      },
      "source": [
        "<b>export the stop words from our text </b>"
      ]
    },
    {
      "cell_type": "code",
      "metadata": {
        "colab": {
          "base_uri": "https://localhost:8080/"
        },
        "id": "NKAVvRh3Mlma",
        "outputId": "b95e5dcf-81b6-4c85-fd47-291c4220f5f1"
      },
      "source": [
        "filter_anglais_data = []\n",
        "for word in anglais_words:\n",
        "    if word.casefold() not in stop_words_anglais:\n",
        "        filter_anglais_data.append(word)\n",
        "\n",
        "filter_anglais_data"
      ],
      "execution_count": 99,
      "outputs": [
        {
          "output_type": "execute_result",
          "data": {
            "text/plain": [
              "['perhaps',\n",
              " 'one',\n",
              " 'significant',\n",
              " 'advances',\n",
              " 'made',\n",
              " 'arabic',\n",
              " 'mathematics',\n",
              " 'began',\n",
              " 'time',\n",
              " 'work',\n",
              " 'al-khwarizmi',\n",
              " ',',\n",
              " 'namely',\n",
              " 'beginnings',\n",
              " 'algebra',\n",
              " '.',\n",
              " 'important',\n",
              " 'understand',\n",
              " 'significant',\n",
              " 'new',\n",
              " 'idea',\n",
              " '.',\n",
              " 'revolutionary',\n",
              " 'move',\n",
              " 'away',\n",
              " 'greek',\n",
              " 'concept',\n",
              " 'mathematics',\n",
              " 'essentially',\n",
              " 'geometry',\n",
              " '.',\n",
              " 'algebra',\n",
              " 'unifying',\n",
              " 'theory',\n",
              " 'allowedrational',\n",
              " 'numbers',\n",
              " ',',\n",
              " 'irrational',\n",
              " 'numbers',\n",
              " ',',\n",
              " 'geometrical',\n",
              " 'magnitudes',\n",
              " ',',\n",
              " 'etc.',\n",
              " ',',\n",
              " 'treated',\n",
              " '``',\n",
              " 'algebraic',\n",
              " 'objects',\n",
              " \"''\",\n",
              " '.',\n",
              " 'gave',\n",
              " 'mathematics',\n",
              " 'whole',\n",
              " 'new',\n",
              " 'development',\n",
              " 'path',\n",
              " 'much',\n",
              " 'broader',\n",
              " 'concept',\n",
              " 'existed',\n",
              " ',',\n",
              " 'provided',\n",
              " 'vehicle',\n",
              " 'future',\n",
              " 'development',\n",
              " 'subject',\n",
              " '.',\n",
              " 'another',\n",
              " 'important',\n",
              " 'aspect',\n",
              " 'introduction',\n",
              " 'algebraic',\n",
              " 'ideas',\n",
              " 'allowed',\n",
              " 'mathematics',\n",
              " 'applied',\n",
              " 'itselfin',\n",
              " 'way',\n",
              " 'happened',\n",
              " '.']"
            ]
          },
          "metadata": {
            "tags": []
          },
          "execution_count": 99
        }
      ]
    },
    {
      "cell_type": "code",
      "metadata": {
        "colab": {
          "base_uri": "https://localhost:8080/"
        },
        "id": "CT7jHK-vMlmb",
        "outputId": "9809dde6-dee6-4479-8bc4-94ce101c9020"
      },
      "source": [
        "# Arabe Text using List Comprehension\n",
        "filter_arabe_data = [\n",
        "    word for word in arabe_words if word not in stop_words_ar\n",
        "]\n",
        "\n",
        "filter_arabe_data"
      ],
      "execution_count": 100,
      "outputs": [
        {
          "output_type": "execute_result",
          "data": {
            "text/plain": [
              "['ربما',\n",
              " 'كانت',\n",
              " 'أحد',\n",
              " 'أهم',\n",
              " 'التطورات',\n",
              " 'قامت',\n",
              " 'الرياضيات',\n",
              " 'العربية',\n",
              " 'بدأت',\n",
              " 'الوقت',\n",
              " 'بعمل',\n",
              " 'الخوارزمي',\n",
              " 'وهي',\n",
              " 'بدايات',\n",
              " 'الجبر',\n",
              " ',',\n",
              " 'المهم',\n",
              " 'فهم',\n",
              " 'كانت',\n",
              " 'الفكرة',\n",
              " 'الجديدة',\n",
              " 'مهمة',\n",
              " ',',\n",
              " 'فقد',\n",
              " 'كانت',\n",
              " 'خطوة',\n",
              " 'نورية',\n",
              " 'بعيدا',\n",
              " 'المفهوم',\n",
              " 'اليوناني',\n",
              " 'للرياضيات',\n",
              " 'جوهرها',\n",
              " 'هندسة',\n",
              " ',',\n",
              " 'الجبر',\n",
              " 'کان',\n",
              " 'نظرية',\n",
              " 'موحدة',\n",
              " 'تتيح',\n",
              " 'الأعداد',\n",
              " 'الكسرية',\n",
              " 'والأعداد',\n",
              " 'اللا',\n",
              " 'كسرية',\n",
              " ',',\n",
              " 'والمقادير',\n",
              " 'الهندسية',\n",
              " 'وغيرها',\n",
              " ',',\n",
              " 'تتعامل',\n",
              " 'أنها',\n",
              " 'أجسام',\n",
              " 'جبرية',\n",
              " ',',\n",
              " 'وأعطت',\n",
              " 'الرياضيات',\n",
              " 'ككل',\n",
              " 'مسارا',\n",
              " 'جديدا',\n",
              " 'للتطور',\n",
              " 'بمفهوم',\n",
              " 'أوسع',\n",
              " 'بكثير',\n",
              " 'كان',\n",
              " 'موجودا',\n",
              " 'قبل',\n",
              " ',',\n",
              " 'وقم',\n",
              " 'وسيلة',\n",
              " 'للتنمية',\n",
              " 'الموضوع',\n",
              " 'مستقبلا',\n",
              " '.',\n",
              " 'وجانب',\n",
              " 'آخر',\n",
              " 'مهم',\n",
              " 'لإدخال',\n",
              " 'أفكار',\n",
              " 'الجبر',\n",
              " 'أنه',\n",
              " 'سمح',\n",
              " 'بتطبيق',\n",
              " 'الرياضيات',\n",
              " 'نفسها',\n",
              " 'بطريقة',\n",
              " 'تحدث',\n",
              " 'قبل']"
            ]
          },
          "metadata": {
            "tags": []
          },
          "execution_count": 100
        }
      ]
    },
    {
      "cell_type": "markdown",
      "metadata": {
        "id": "xcpa31KYMlmb"
      },
      "source": [
        "### **Stemming  English Text**"
      ]
    },
    {
      "cell_type": "markdown",
      "metadata": {
        "id": "VWCkpECAMlmb"
      },
      "source": [
        "Prerequisite: Introduction to Stemming\n",
        "Stemming is the process of producing morphological variants of a root/base word. Stemming programs are commonly referred to as stemming algorithms or stemmers. A stemming algorithm reduces the words “chocolates”, “chocolatey”, “choco” to the root word, “chocolate” and “retrieval”, “retrieved”, “retrieves” reduce to the stem “retrieve”.\n",
        "\n",
        "Some more example of stemming for root word \"like\" include:<br>\n",
        "\n",
        "-> \"likes\" <br>\n",
        "-> \"liked\"<br>\n",
        "-> \"likely\"<br>\n",
        "-> \"liking\""
      ]
    },
    {
      "cell_type": "code",
      "metadata": {
        "id": "yniQKo_RMlmc"
      },
      "source": [
        "from nltk.stem import PorterStemmer"
      ],
      "execution_count": 101,
      "outputs": []
    },
    {
      "cell_type": "code",
      "metadata": {
        "id": "SNvPyQraMlmc"
      },
      "source": [
        "# you must to Instanciate PorterStemmer Object\n",
        "\n",
        "stem = PorterStemmer()"
      ],
      "execution_count": 102,
      "outputs": []
    },
    {
      "cell_type": "code",
      "metadata": {
        "colab": {
          "base_uri": "https://localhost:8080/"
        },
        "id": "hWfRRr8KMlmc",
        "outputId": "92bca1bc-c1e0-4763-f4f0-30f3245e6fc2"
      },
      "source": [
        "english_words_stem = [stem.stem(word) for word in filter_english_text]\n",
        "english_words_stem"
      ],
      "execution_count": 103,
      "outputs": [
        {
          "output_type": "execute_result",
          "data": {
            "text/plain": [
              "['perhap',\n",
              " 'one',\n",
              " 'signific',\n",
              " 'advanc',\n",
              " 'made',\n",
              " 'arab',\n",
              " 'mathemat',\n",
              " 'began',\n",
              " 'time',\n",
              " 'work',\n",
              " 'al-khwarizmi',\n",
              " ',',\n",
              " 'name',\n",
              " 'begin',\n",
              " 'algebra',\n",
              " '.',\n",
              " 'import',\n",
              " 'understand',\n",
              " 'signific',\n",
              " 'new',\n",
              " 'idea',\n",
              " '.',\n",
              " 'revolutionari',\n",
              " 'move',\n",
              " 'away',\n",
              " 'greek',\n",
              " 'concept',\n",
              " 'mathemat',\n",
              " 'essenti',\n",
              " 'geometri',\n",
              " '.',\n",
              " 'algebra',\n",
              " 'unifi',\n",
              " 'theori',\n",
              " 'allowedr',\n",
              " 'number',\n",
              " ',',\n",
              " 'irrat',\n",
              " 'number',\n",
              " ',',\n",
              " 'geometr',\n",
              " 'magnitud',\n",
              " ',',\n",
              " 'etc.',\n",
              " ',',\n",
              " 'treat',\n",
              " '``',\n",
              " 'algebra',\n",
              " 'object',\n",
              " \"''\",\n",
              " '.',\n",
              " 'gave',\n",
              " 'mathemat',\n",
              " 'whole',\n",
              " 'new',\n",
              " 'develop',\n",
              " 'path',\n",
              " 'much',\n",
              " 'broader',\n",
              " 'concept',\n",
              " 'exist',\n",
              " ',',\n",
              " 'provid',\n",
              " 'vehicl',\n",
              " 'futur',\n",
              " 'develop',\n",
              " 'subject',\n",
              " '.',\n",
              " 'anoth',\n",
              " 'import',\n",
              " 'aspect',\n",
              " 'introduct',\n",
              " 'algebra',\n",
              " 'idea',\n",
              " 'allow',\n",
              " 'mathemat',\n",
              " 'appli',\n",
              " 'itselfin',\n",
              " 'way',\n",
              " 'happen',\n",
              " '.']"
            ]
          },
          "metadata": {
            "tags": []
          },
          "execution_count": 103
        }
      ]
    },
    {
      "cell_type": "markdown",
      "metadata": {
        "id": "Oe9CYpCfMlmd"
      },
      "source": [
        "### **Stemming  Arabic Text**"
      ]
    },
    {
      "cell_type": "code",
      "metadata": {
        "id": "MeEAVb9bMlmd"
      },
      "source": [
        "from snowballstemmer import stemmer"
      ],
      "execution_count": 104,
      "outputs": []
    },
    {
      "cell_type": "code",
      "metadata": {
        "colab": {
          "base_uri": "https://localhost:8080/"
        },
        "id": "kFRgDc1FMlme",
        "outputId": "eb3cb369-4375-4156-b8ee-f52fc2a2c198"
      },
      "source": [
        "ar_stemmer = stemmer(\"arabic\")\n",
        "\n",
        "arabic_words_stem = [ar_stemmer.stemWord(ar_word) for ar_word in filter_arabic_text]\n",
        "arabic_words_stem"
      ],
      "execution_count": 105,
      "outputs": [
        {
          "output_type": "execute_result",
          "data": {
            "text/plain": [
              "['ربم',\n",
              " 'كان',\n",
              " 'احد',\n",
              " 'اهم',\n",
              " 'تطور',\n",
              " 'قام',\n",
              " 'رياض',\n",
              " 'عرب',\n",
              " 'بدء',\n",
              " 'وقت',\n",
              " 'عمل',\n",
              " 'خوارزم',\n",
              " 'وه',\n",
              " 'دايا',\n",
              " 'جبر',\n",
              " ',',\n",
              " 'مهم',\n",
              " 'فهم',\n",
              " 'كان',\n",
              " 'فكر',\n",
              " 'جديد',\n",
              " 'مهم',\n",
              " ',',\n",
              " 'فقد',\n",
              " 'كان',\n",
              " 'خطو',\n",
              " 'نور',\n",
              " 'عيد',\n",
              " 'مفهوم',\n",
              " 'يونان',\n",
              " 'رياض',\n",
              " 'جوهر',\n",
              " 'هندس',\n",
              " ',',\n",
              " 'جبر',\n",
              " 'کان',\n",
              " 'نظر',\n",
              " 'موحد',\n",
              " 'تتيح',\n",
              " 'اعداد',\n",
              " 'كسر',\n",
              " 'والاعداد',\n",
              " 'اللا',\n",
              " 'كسر',\n",
              " ',',\n",
              " 'والمقادير',\n",
              " 'هندس',\n",
              " 'غير',\n",
              " ',',\n",
              " 'تتعامل',\n",
              " 'انه',\n",
              " 'اجسام',\n",
              " 'جبر',\n",
              " ',',\n",
              " 'اعط',\n",
              " 'رياض',\n",
              " 'ككل',\n",
              " 'مسار',\n",
              " 'جديد',\n",
              " 'تطور',\n",
              " 'مفهوم',\n",
              " 'اوسع',\n",
              " 'كثير',\n",
              " 'كان',\n",
              " 'موجود',\n",
              " 'قبل',\n",
              " ',',\n",
              " 'وقم',\n",
              " 'سيل',\n",
              " 'تنم',\n",
              " 'موضوع',\n",
              " 'مستقبل',\n",
              " '.',\n",
              " 'جانب',\n",
              " 'اخر',\n",
              " 'مهم',\n",
              " 'لادخال',\n",
              " 'افكار',\n",
              " 'جبر',\n",
              " 'انه',\n",
              " 'سمح',\n",
              " 'تطبيق',\n",
              " 'رياض',\n",
              " 'نفس',\n",
              " 'طريق',\n",
              " 'تحدث',\n",
              " 'قبل']"
            ]
          },
          "metadata": {
            "tags": []
          },
          "execution_count": 105
        }
      ]
    },
    {
      "cell_type": "markdown",
      "metadata": {
        "id": "Q13hznnNMlme"
      },
      "source": [
        "<b>Understemming</b> happens when two related words should be reduced to the same stem but aren’t. This is a false negative.\n",
        "<b>Overstemming</b> happens when two unrelated words are reduced to the same stem even though they shouldn’t be. This is a false positive."
      ]
    },
    {
      "cell_type": "markdown",
      "metadata": {
        "id": "Mi5F32kSMlme"
      },
      "source": [
        "### **Tagging Parts of Speech**"
      ]
    },
    {
      "cell_type": "markdown",
      "metadata": {
        "id": "Ik6rqBr8Mlmf"
      },
      "source": [
        "POS tagging, is the task of labeling the words in your text according to their part of speech."
      ]
    },
    {
      "cell_type": "code",
      "metadata": {
        "colab": {
          "base_uri": "https://localhost:8080/"
        },
        "id": "Yrf0Ua3jNP-h",
        "outputId": "438a941c-364f-4622-e562-7175cfdddb0d"
      },
      "source": [
        "nltk.download('averaged_perceptron_tagger')"
      ],
      "execution_count": 106,
      "outputs": [
        {
          "output_type": "stream",
          "text": [
            "[nltk_data] Downloading package averaged_perceptron_tagger to\n",
            "[nltk_data]     /root/nltk_data...\n",
            "[nltk_data]   Package averaged_perceptron_tagger is already up-to-\n",
            "[nltk_data]       date!\n"
          ],
          "name": "stdout"
        },
        {
          "output_type": "execute_result",
          "data": {
            "text/plain": [
              "True"
            ]
          },
          "metadata": {
            "tags": []
          },
          "execution_count": 106
        }
      ]
    },
    {
      "cell_type": "code",
      "metadata": {
        "colab": {
          "base_uri": "https://localhost:8080/"
        },
        "id": "Pi3bxq9kMlmf",
        "outputId": "a6c17c1f-fbc6-4ad8-a454-7ce8f64007dd"
      },
      "source": [
        "\n",
        "anglais_pos_tag = nltk.pos_tag(anglais_words)\n",
        "anglais_pos_tag"
      ],
      "execution_count": 107,
      "outputs": [
        {
          "output_type": "execute_result",
          "data": {
            "text/plain": [
              "[('perhaps', 'RB'),\n",
              " ('one', 'CD'),\n",
              " ('of', 'IN'),\n",
              " ('the', 'DT'),\n",
              " ('most', 'RBS'),\n",
              " ('significant', 'JJ'),\n",
              " ('advances', 'NNS'),\n",
              " ('made', 'VBN'),\n",
              " ('by', 'IN'),\n",
              " ('arabic', 'JJ'),\n",
              " ('mathematics', 'NNS'),\n",
              " ('began', 'VBD'),\n",
              " ('at', 'IN'),\n",
              " ('this', 'DT'),\n",
              " ('time', 'NN'),\n",
              " ('with', 'IN'),\n",
              " ('the', 'DT'),\n",
              " ('work', 'NN'),\n",
              " ('of', 'IN'),\n",
              " ('al-khwarizmi', 'JJ'),\n",
              " (',', ','),\n",
              " ('namely', 'RB'),\n",
              " ('the', 'DT'),\n",
              " ('beginnings', 'NNS'),\n",
              " ('of', 'IN'),\n",
              " ('algebra', 'NN'),\n",
              " ('.', '.'),\n",
              " ('it', 'PRP'),\n",
              " ('is', 'VBZ'),\n",
              " ('important', 'JJ'),\n",
              " ('to', 'TO'),\n",
              " ('understand', 'VB'),\n",
              " ('just', 'RB'),\n",
              " ('how', 'WRB'),\n",
              " ('significant', 'JJ'),\n",
              " ('this', 'DT'),\n",
              " ('new', 'JJ'),\n",
              " ('idea', 'NN'),\n",
              " ('was', 'VBD'),\n",
              " ('.', '.'),\n",
              " ('it', 'PRP'),\n",
              " ('was', 'VBD'),\n",
              " ('a', 'DT'),\n",
              " ('revolutionary', 'JJ'),\n",
              " ('move', 'NN'),\n",
              " ('away', 'RB'),\n",
              " ('from', 'IN'),\n",
              " ('the', 'DT'),\n",
              " ('greek', 'JJ'),\n",
              " ('concept', 'NN'),\n",
              " ('of', 'IN'),\n",
              " ('mathematics', 'NNS'),\n",
              " ('which', 'WDT'),\n",
              " ('was', 'VBD'),\n",
              " ('essentially', 'RB'),\n",
              " ('geometry', 'JJ'),\n",
              " ('.', '.'),\n",
              " ('algebra', 'NN'),\n",
              " ('was', 'VBD'),\n",
              " ('a', 'DT'),\n",
              " ('unifying', 'JJ'),\n",
              " ('theory', 'NN'),\n",
              " ('which', 'WDT'),\n",
              " ('allowedrational', 'JJ'),\n",
              " ('numbers', 'NNS'),\n",
              " (',', ','),\n",
              " ('irrational', 'JJ'),\n",
              " ('numbers', 'NNS'),\n",
              " (',', ','),\n",
              " ('geometrical', 'JJ'),\n",
              " ('magnitudes', 'NNS'),\n",
              " (',', ','),\n",
              " ('etc.', 'NN'),\n",
              " (',', ','),\n",
              " ('to', 'TO'),\n",
              " ('all', 'DT'),\n",
              " ('be', 'VB'),\n",
              " ('treated', 'VBN'),\n",
              " ('as', 'IN'),\n",
              " ('``', '``'),\n",
              " ('algebraic', 'JJ'),\n",
              " ('objects', 'NNS'),\n",
              " (\"''\", \"''\"),\n",
              " ('.', '.'),\n",
              " ('it', 'PRP'),\n",
              " ('gave', 'VBD'),\n",
              " ('mathematics', 'NNS'),\n",
              " ('a', 'DT'),\n",
              " ('whole', 'JJ'),\n",
              " ('new', 'JJ'),\n",
              " ('development', 'NN'),\n",
              " ('path', 'NN'),\n",
              " ('so', 'RB'),\n",
              " ('much', 'JJ'),\n",
              " ('broader', 'JJR'),\n",
              " ('in', 'IN'),\n",
              " ('concept', 'NN'),\n",
              " ('to', 'TO'),\n",
              " ('that', 'DT'),\n",
              " ('which', 'WDT'),\n",
              " ('had', 'VBD'),\n",
              " ('existed', 'VBN'),\n",
              " ('before', 'IN'),\n",
              " (',', ','),\n",
              " ('and', 'CC'),\n",
              " ('provided', 'VBD'),\n",
              " ('a', 'DT'),\n",
              " ('vehicle', 'NN'),\n",
              " ('for', 'IN'),\n",
              " ('future', 'JJ'),\n",
              " ('development', 'NN'),\n",
              " ('of', 'IN'),\n",
              " ('the', 'DT'),\n",
              " ('subject', 'NN'),\n",
              " ('.', '.'),\n",
              " ('another', 'DT'),\n",
              " ('important', 'JJ'),\n",
              " ('aspect', 'NN'),\n",
              " ('of', 'IN'),\n",
              " ('the', 'DT'),\n",
              " ('introduction', 'NN'),\n",
              " ('of', 'IN'),\n",
              " ('algebraic', 'JJ'),\n",
              " ('ideas', 'NNS'),\n",
              " ('was', 'VBD'),\n",
              " ('that', 'IN'),\n",
              " ('it', 'PRP'),\n",
              " ('allowed', 'VBD'),\n",
              " ('mathematics', 'NNS'),\n",
              " ('to', 'TO'),\n",
              " ('be', 'VB'),\n",
              " ('applied', 'VBN'),\n",
              " ('to', 'TO'),\n",
              " ('itselfin', 'VB'),\n",
              " ('a', 'DT'),\n",
              " ('way', 'NN'),\n",
              " ('which', 'WDT'),\n",
              " ('had', 'VBD'),\n",
              " ('not', 'RB'),\n",
              " ('happened', 'VBN'),\n",
              " ('before', 'IN'),\n",
              " ('.', '.')]"
            ]
          },
          "metadata": {
            "tags": []
          },
          "execution_count": 107
        }
      ]
    },
    {
      "cell_type": "code",
      "metadata": {
        "colab": {
          "base_uri": "https://localhost:8080/"
        },
        "id": "nXYVRMwXNZIv",
        "outputId": "7fb8488d-2744-4238-c21a-c41b554d4de4"
      },
      "source": [
        " nltk.download('tagsets')"
      ],
      "execution_count": 108,
      "outputs": [
        {
          "output_type": "stream",
          "text": [
            "[nltk_data] Downloading package tagsets to /root/nltk_data...\n",
            "[nltk_data]   Package tagsets is already up-to-date!\n"
          ],
          "name": "stdout"
        },
        {
          "output_type": "execute_result",
          "data": {
            "text/plain": [
              "True"
            ]
          },
          "metadata": {
            "tags": []
          },
          "execution_count": 108
        }
      ]
    },
    {
      "cell_type": "code",
      "metadata": {
        "colab": {
          "base_uri": "https://localhost:8080/"
        },
        "id": "a6edwc60Mlmg",
        "outputId": "89689bce-6a2e-4add-f1fe-cd245c2a0239"
      },
      "source": [
        "# if you want to know the meaning about the abreviation in pos tagging just type this comande \n",
        "nltk.help.upenn_tagset()"
      ],
      "execution_count": 109,
      "outputs": [
        {
          "output_type": "stream",
          "text": [
            "$: dollar\n",
            "    $ -$ --$ A$ C$ HK$ M$ NZ$ S$ U.S.$ US$\n",
            "'': closing quotation mark\n",
            "    ' ''\n",
            "(: opening parenthesis\n",
            "    ( [ {\n",
            "): closing parenthesis\n",
            "    ) ] }\n",
            ",: comma\n",
            "    ,\n",
            "--: dash\n",
            "    --\n",
            ".: sentence terminator\n",
            "    . ! ?\n",
            ":: colon or ellipsis\n",
            "    : ; ...\n",
            "CC: conjunction, coordinating\n",
            "    & 'n and both but either et for less minus neither nor or plus so\n",
            "    therefore times v. versus vs. whether yet\n",
            "CD: numeral, cardinal\n",
            "    mid-1890 nine-thirty forty-two one-tenth ten million 0.5 one forty-\n",
            "    seven 1987 twenty '79 zero two 78-degrees eighty-four IX '60s .025\n",
            "    fifteen 271,124 dozen quintillion DM2,000 ...\n",
            "DT: determiner\n",
            "    all an another any both del each either every half la many much nary\n",
            "    neither no some such that the them these this those\n",
            "EX: existential there\n",
            "    there\n",
            "FW: foreign word\n",
            "    gemeinschaft hund ich jeux habeas Haementeria Herr K'ang-si vous\n",
            "    lutihaw alai je jour objets salutaris fille quibusdam pas trop Monte\n",
            "    terram fiche oui corporis ...\n",
            "IN: preposition or conjunction, subordinating\n",
            "    astride among uppon whether out inside pro despite on by throughout\n",
            "    below within for towards near behind atop around if like until below\n",
            "    next into if beside ...\n",
            "JJ: adjective or numeral, ordinal\n",
            "    third ill-mannered pre-war regrettable oiled calamitous first separable\n",
            "    ectoplasmic battery-powered participatory fourth still-to-be-named\n",
            "    multilingual multi-disciplinary ...\n",
            "JJR: adjective, comparative\n",
            "    bleaker braver breezier briefer brighter brisker broader bumper busier\n",
            "    calmer cheaper choosier cleaner clearer closer colder commoner costlier\n",
            "    cozier creamier crunchier cuter ...\n",
            "JJS: adjective, superlative\n",
            "    calmest cheapest choicest classiest cleanest clearest closest commonest\n",
            "    corniest costliest crassest creepiest crudest cutest darkest deadliest\n",
            "    dearest deepest densest dinkiest ...\n",
            "LS: list item marker\n",
            "    A A. B B. C C. D E F First G H I J K One SP-44001 SP-44002 SP-44005\n",
            "    SP-44007 Second Third Three Two * a b c d first five four one six three\n",
            "    two\n",
            "MD: modal auxiliary\n",
            "    can cannot could couldn't dare may might must need ought shall should\n",
            "    shouldn't will would\n",
            "NN: noun, common, singular or mass\n",
            "    common-carrier cabbage knuckle-duster Casino afghan shed thermostat\n",
            "    investment slide humour falloff slick wind hyena override subhumanity\n",
            "    machinist ...\n",
            "NNP: noun, proper, singular\n",
            "    Motown Venneboerger Czestochwa Ranzer Conchita Trumplane Christos\n",
            "    Oceanside Escobar Kreisler Sawyer Cougar Yvette Ervin ODI Darryl CTCA\n",
            "    Shannon A.K.C. Meltex Liverpool ...\n",
            "NNPS: noun, proper, plural\n",
            "    Americans Americas Amharas Amityvilles Amusements Anarcho-Syndicalists\n",
            "    Andalusians Andes Andruses Angels Animals Anthony Antilles Antiques\n",
            "    Apache Apaches Apocrypha ...\n",
            "NNS: noun, common, plural\n",
            "    undergraduates scotches bric-a-brac products bodyguards facets coasts\n",
            "    divestitures storehouses designs clubs fragrances averages\n",
            "    subjectivists apprehensions muses factory-jobs ...\n",
            "PDT: pre-determiner\n",
            "    all both half many quite such sure this\n",
            "POS: genitive marker\n",
            "    ' 's\n",
            "PRP: pronoun, personal\n",
            "    hers herself him himself hisself it itself me myself one oneself ours\n",
            "    ourselves ownself self she thee theirs them themselves they thou thy us\n",
            "PRP$: pronoun, possessive\n",
            "    her his mine my our ours their thy your\n",
            "RB: adverb\n",
            "    occasionally unabatingly maddeningly adventurously professedly\n",
            "    stirringly prominently technologically magisterially predominately\n",
            "    swiftly fiscally pitilessly ...\n",
            "RBR: adverb, comparative\n",
            "    further gloomier grander graver greater grimmer harder harsher\n",
            "    healthier heavier higher however larger later leaner lengthier less-\n",
            "    perfectly lesser lonelier longer louder lower more ...\n",
            "RBS: adverb, superlative\n",
            "    best biggest bluntest earliest farthest first furthest hardest\n",
            "    heartiest highest largest least less most nearest second tightest worst\n",
            "RP: particle\n",
            "    aboard about across along apart around aside at away back before behind\n",
            "    by crop down ever fast for forth from go high i.e. in into just later\n",
            "    low more off on open out over per pie raising start teeth that through\n",
            "    under unto up up-pp upon whole with you\n",
            "SYM: symbol\n",
            "    % & ' '' ''. ) ). * + ,. < = > @ A[fj] U.S U.S.S.R * ** ***\n",
            "TO: \"to\" as preposition or infinitive marker\n",
            "    to\n",
            "UH: interjection\n",
            "    Goodbye Goody Gosh Wow Jeepers Jee-sus Hubba Hey Kee-reist Oops amen\n",
            "    huh howdy uh dammit whammo shucks heck anyways whodunnit honey golly\n",
            "    man baby diddle hush sonuvabitch ...\n",
            "VB: verb, base form\n",
            "    ask assemble assess assign assume atone attention avoid bake balkanize\n",
            "    bank begin behold believe bend benefit bevel beware bless boil bomb\n",
            "    boost brace break bring broil brush build ...\n",
            "VBD: verb, past tense\n",
            "    dipped pleaded swiped regummed soaked tidied convened halted registered\n",
            "    cushioned exacted snubbed strode aimed adopted belied figgered\n",
            "    speculated wore appreciated contemplated ...\n",
            "VBG: verb, present participle or gerund\n",
            "    telegraphing stirring focusing angering judging stalling lactating\n",
            "    hankerin' alleging veering capping approaching traveling besieging\n",
            "    encrypting interrupting erasing wincing ...\n",
            "VBN: verb, past participle\n",
            "    multihulled dilapidated aerosolized chaired languished panelized used\n",
            "    experimented flourished imitated reunifed factored condensed sheared\n",
            "    unsettled primed dubbed desired ...\n",
            "VBP: verb, present tense, not 3rd person singular\n",
            "    predominate wrap resort sue twist spill cure lengthen brush terminate\n",
            "    appear tend stray glisten obtain comprise detest tease attract\n",
            "    emphasize mold postpone sever return wag ...\n",
            "VBZ: verb, present tense, 3rd person singular\n",
            "    bases reconstructs marks mixes displeases seals carps weaves snatches\n",
            "    slumps stretches authorizes smolders pictures emerges stockpiles\n",
            "    seduces fizzes uses bolsters slaps speaks pleads ...\n",
            "WDT: WH-determiner\n",
            "    that what whatever which whichever\n",
            "WP: WH-pronoun\n",
            "    that what whatever whatsoever which who whom whosoever\n",
            "WP$: WH-pronoun, possessive\n",
            "    whose\n",
            "WRB: Wh-adverb\n",
            "    how however whence whenever where whereby whereever wherein whereof why\n",
            "``: opening quotation mark\n",
            "    ` ``\n"
          ],
          "name": "stdout"
        }
      ]
    },
    {
      "cell_type": "code",
      "metadata": {
        "colab": {
          "base_uri": "https://localhost:8080/"
        },
        "id": "JZQaRVPEMlmh",
        "outputId": "321981f2-74d6-4b93-d475-dda27e851fc7"
      },
      "source": [
        "arabe_pos_tag = nltk.pos_tag(arabe_words) \n",
        "arabe_pos_tag\n"
      ],
      "execution_count": 110,
      "outputs": [
        {
          "output_type": "execute_result",
          "data": {
            "text/plain": [
              "[('ربما', 'JJ'),\n",
              " ('كانت', 'NNP'),\n",
              " ('أحد', 'NNP'),\n",
              " ('أهم', 'NNP'),\n",
              " ('التطورات', 'NNP'),\n",
              " ('التي', 'NNP'),\n",
              " ('قامت', 'NNP'),\n",
              " ('بها', 'NNP'),\n",
              " ('الرياضيات', 'NNP'),\n",
              " ('العربية', 'NNP'),\n",
              " ('التي', 'NNP'),\n",
              " ('بدأت', 'NNP'),\n",
              " ('في', 'NNP'),\n",
              " ('هذا', 'NNP'),\n",
              " ('الوقت', 'NNP'),\n",
              " ('بعمل', 'NNP'),\n",
              " ('الخوارزمي', 'NNP'),\n",
              " ('وهي', 'NNP'),\n",
              " ('بدايات', 'NNP'),\n",
              " ('الجبر', 'NNP'),\n",
              " (',', ','),\n",
              " ('ومن', 'NNP'),\n",
              " ('المهم', 'NNP'),\n",
              " ('فهم', 'NNP'),\n",
              " ('كيف', 'NNP'),\n",
              " ('كانت', 'NNP'),\n",
              " ('هذه', 'NNP'),\n",
              " ('الفكرة', 'NNP'),\n",
              " ('الجديدة', 'NNP'),\n",
              " ('مهمة', 'NNP'),\n",
              " (',', ','),\n",
              " ('فقد', 'NNP'),\n",
              " ('كانت', 'NNP'),\n",
              " ('خطوة', 'NNP'),\n",
              " ('نورية', 'NNP'),\n",
              " ('بعيدا', 'NNP'),\n",
              " ('عن', 'NNP'),\n",
              " ('المفهوم', 'NNP'),\n",
              " ('اليوناني', 'NNP'),\n",
              " ('للرياضيات', 'NNP'),\n",
              " ('التي', 'NNP'),\n",
              " ('هي', 'NNP'),\n",
              " ('في', 'NNP'),\n",
              " ('جوهرها', 'NNP'),\n",
              " ('هندسة', 'NNP'),\n",
              " (',', ','),\n",
              " ('الجبر', 'NNP'),\n",
              " ('کان', 'NNP'),\n",
              " ('نظرية', 'NNP'),\n",
              " ('موحدة', 'NNP'),\n",
              " ('تتيح', 'NNP'),\n",
              " ('الأعداد', 'NNP'),\n",
              " ('الكسرية', 'NNP'),\n",
              " ('والأعداد', 'NNP'),\n",
              " ('اللا', 'NNP'),\n",
              " ('كسرية', 'NNP'),\n",
              " (',', ','),\n",
              " ('والمقادير', 'NNP'),\n",
              " ('الهندسية', 'NNP'),\n",
              " ('وغيرها', 'NNP'),\n",
              " (',', ','),\n",
              " ('أن', 'NNP'),\n",
              " ('تتعامل', 'NNP'),\n",
              " ('على', 'NNP'),\n",
              " ('أنها', 'NNP'),\n",
              " ('أجسام', 'NNP'),\n",
              " ('جبرية', 'NNP'),\n",
              " (',', ','),\n",
              " ('وأعطت', 'NNP'),\n",
              " ('الرياضيات', 'NNP'),\n",
              " ('ككل', 'NNP'),\n",
              " ('مسارا', 'NNP'),\n",
              " ('جديدا', 'NNP'),\n",
              " ('للتطور', 'NNP'),\n",
              " ('بمفهوم', 'NNP'),\n",
              " ('أوسع', 'NNP'),\n",
              " ('بكثير', 'NNP'),\n",
              " ('من', 'NNP'),\n",
              " ('الذي', 'NNP'),\n",
              " ('كان', 'NNP'),\n",
              " ('موجودا', 'NNP'),\n",
              " ('من', 'NNP'),\n",
              " ('قبل', 'NNP'),\n",
              " (',', ','),\n",
              " ('وقم', 'NNP'),\n",
              " ('وسيلة', 'NNP'),\n",
              " ('للتنمية', 'NNP'),\n",
              " ('في', 'NNP'),\n",
              " ('هذا', 'NNP'),\n",
              " ('الموضوع', 'NNP'),\n",
              " ('مستقبلا', 'NNP'),\n",
              " ('.', '.'),\n",
              " ('وجانب', 'VB'),\n",
              " ('آخر', 'JJ'),\n",
              " ('مهم', 'NNP'),\n",
              " ('لإدخال', 'NNP'),\n",
              " ('أفكار', 'NNP'),\n",
              " ('الجبر', 'NNP'),\n",
              " ('وهو', 'NNP'),\n",
              " ('أنه', 'NNP'),\n",
              " ('سمح', 'NNP'),\n",
              " ('بتطبيق', 'NNP'),\n",
              " ('الرياضيات', 'NNP'),\n",
              " ('على', 'NNP'),\n",
              " ('نفسها', 'NNP'),\n",
              " ('بطريقة', 'NNP'),\n",
              " ('لم', 'NNP'),\n",
              " ('تحدث', 'NNP'),\n",
              " ('من', 'NNP'),\n",
              " ('قبل', 'NN')]"
            ]
          },
          "metadata": {
            "tags": []
          },
          "execution_count": 110
        }
      ]
    },
    {
      "cell_type": "markdown",
      "metadata": {
        "id": "nhxBGbouMlmi"
      },
      "source": [
        "### Lemmatizing"
      ]
    },
    {
      "cell_type": "markdown",
      "metadata": {
        "id": "SVniH7apMlmj"
      },
      "source": [
        "A lemma is a word that represents a whole group of words, and that group of words is called a lexeme."
      ]
    },
    {
      "cell_type": "code",
      "metadata": {
        "id": "9HV15U98Mlmj"
      },
      "source": [
        "from nltk.stem import WordNetLemmatizer"
      ],
      "execution_count": 111,
      "outputs": []
    },
    {
      "cell_type": "code",
      "metadata": {
        "id": "n_a3rk2XMlml"
      },
      "source": [
        "lemmatizer = WordNetLemmatizer()"
      ],
      "execution_count": 112,
      "outputs": []
    },
    {
      "cell_type": "code",
      "metadata": {
        "colab": {
          "base_uri": "https://localhost:8080/"
        },
        "id": "6VkEjORINpL9",
        "outputId": "667057fc-a82d-4f1b-8b54-cb22c5bf17ad"
      },
      "source": [
        "nltk.download('wordnet')"
      ],
      "execution_count": 113,
      "outputs": [
        {
          "output_type": "stream",
          "text": [
            "[nltk_data] Downloading package wordnet to /root/nltk_data...\n",
            "[nltk_data]   Package wordnet is already up-to-date!\n"
          ],
          "name": "stdout"
        },
        {
          "output_type": "execute_result",
          "data": {
            "text/plain": [
              "True"
            ]
          },
          "metadata": {
            "tags": []
          },
          "execution_count": 113
        }
      ]
    },
    {
      "cell_type": "code",
      "metadata": {
        "id": "nhpnD_uaMlmo"
      },
      "source": [
        "lemmatized_words = [lemmatizer.lemmatize(word) for word in anglais_words]"
      ],
      "execution_count": 114,
      "outputs": []
    },
    {
      "cell_type": "code",
      "metadata": {
        "colab": {
          "base_uri": "https://localhost:8080/"
        },
        "id": "yHUhastqMlmp",
        "outputId": "c4234a19-69d4-4174-b904-1e0e45a14d1a"
      },
      "source": [
        "lemmatized_words"
      ],
      "execution_count": 115,
      "outputs": [
        {
          "output_type": "execute_result",
          "data": {
            "text/plain": [
              "['perhaps',\n",
              " 'one',\n",
              " 'of',\n",
              " 'the',\n",
              " 'most',\n",
              " 'significant',\n",
              " 'advance',\n",
              " 'made',\n",
              " 'by',\n",
              " 'arabic',\n",
              " 'mathematics',\n",
              " 'began',\n",
              " 'at',\n",
              " 'this',\n",
              " 'time',\n",
              " 'with',\n",
              " 'the',\n",
              " 'work',\n",
              " 'of',\n",
              " 'al-khwarizmi',\n",
              " ',',\n",
              " 'namely',\n",
              " 'the',\n",
              " 'beginning',\n",
              " 'of',\n",
              " 'algebra',\n",
              " '.',\n",
              " 'it',\n",
              " 'is',\n",
              " 'important',\n",
              " 'to',\n",
              " 'understand',\n",
              " 'just',\n",
              " 'how',\n",
              " 'significant',\n",
              " 'this',\n",
              " 'new',\n",
              " 'idea',\n",
              " 'wa',\n",
              " '.',\n",
              " 'it',\n",
              " 'wa',\n",
              " 'a',\n",
              " 'revolutionary',\n",
              " 'move',\n",
              " 'away',\n",
              " 'from',\n",
              " 'the',\n",
              " 'greek',\n",
              " 'concept',\n",
              " 'of',\n",
              " 'mathematics',\n",
              " 'which',\n",
              " 'wa',\n",
              " 'essentially',\n",
              " 'geometry',\n",
              " '.',\n",
              " 'algebra',\n",
              " 'wa',\n",
              " 'a',\n",
              " 'unifying',\n",
              " 'theory',\n",
              " 'which',\n",
              " 'allowedrational',\n",
              " 'number',\n",
              " ',',\n",
              " 'irrational',\n",
              " 'number',\n",
              " ',',\n",
              " 'geometrical',\n",
              " 'magnitude',\n",
              " ',',\n",
              " 'etc.',\n",
              " ',',\n",
              " 'to',\n",
              " 'all',\n",
              " 'be',\n",
              " 'treated',\n",
              " 'a',\n",
              " '``',\n",
              " 'algebraic',\n",
              " 'object',\n",
              " \"''\",\n",
              " '.',\n",
              " 'it',\n",
              " 'gave',\n",
              " 'mathematics',\n",
              " 'a',\n",
              " 'whole',\n",
              " 'new',\n",
              " 'development',\n",
              " 'path',\n",
              " 'so',\n",
              " 'much',\n",
              " 'broader',\n",
              " 'in',\n",
              " 'concept',\n",
              " 'to',\n",
              " 'that',\n",
              " 'which',\n",
              " 'had',\n",
              " 'existed',\n",
              " 'before',\n",
              " ',',\n",
              " 'and',\n",
              " 'provided',\n",
              " 'a',\n",
              " 'vehicle',\n",
              " 'for',\n",
              " 'future',\n",
              " 'development',\n",
              " 'of',\n",
              " 'the',\n",
              " 'subject',\n",
              " '.',\n",
              " 'another',\n",
              " 'important',\n",
              " 'aspect',\n",
              " 'of',\n",
              " 'the',\n",
              " 'introduction',\n",
              " 'of',\n",
              " 'algebraic',\n",
              " 'idea',\n",
              " 'wa',\n",
              " 'that',\n",
              " 'it',\n",
              " 'allowed',\n",
              " 'mathematics',\n",
              " 'to',\n",
              " 'be',\n",
              " 'applied',\n",
              " 'to',\n",
              " 'itselfin',\n",
              " 'a',\n",
              " 'way',\n",
              " 'which',\n",
              " 'had',\n",
              " 'not',\n",
              " 'happened',\n",
              " 'before',\n",
              " '.']"
            ]
          },
          "metadata": {
            "tags": []
          },
          "execution_count": 115
        }
      ]
    },
    {
      "cell_type": "markdown",
      "metadata": {
        "id": "0fCx5-5zMlmp"
      },
      "source": [
        "### Chunking"
      ]
    },
    {
      "cell_type": "markdown",
      "metadata": {
        "id": "lBgRJyn_Mlmq"
      },
      "source": [
        "While <b>tokenizing</b> allows you to identify words and sentences, <b>chunking</b> allows you to identify phrases."
      ]
    },
    {
      "cell_type": "code",
      "metadata": {
        "id": "idYcTABhMlmq"
      },
      "source": [
        "grammar = \"NP: {<DT>?<JJ>*<NN>}\""
      ],
      "execution_count": 116,
      "outputs": []
    },
    {
      "cell_type": "markdown",
      "metadata": {
        "id": "UCnx_MCXMlmq"
      },
      "source": [
        "<b>NP</b> stands for noun phrase\n",
        "       \n",
        "        Start with an optional (?) determiner ('DT')\n",
        "        Can have any number (*) of adjectives (JJ)\n",
        "        End with a noun (<NN>)"
      ]
    },
    {
      "cell_type": "code",
      "metadata": {
        "id": "tqYFKvAuMlmq"
      },
      "source": [
        "chunk_parser = nltk.RegexpParser(grammar)\n"
      ],
      "execution_count": 117,
      "outputs": []
    },
    {
      "cell_type": "code",
      "metadata": {
        "colab": {
          "base_uri": "https://localhost:8080/",
          "height": 0
        },
        "id": "XwMJPpD_Mlmq",
        "outputId": "68ba6da9-1982-4ff8-e184-cea521bc955b"
      },
      "source": [
        "chunk_parser.parse(eng_pos_tag)"
      ],
      "execution_count": 118,
      "outputs": [
        {
          "output_type": "error",
          "ename": "TclError",
          "evalue": "ignored",
          "traceback": [
            "\u001b[0;31m---------------------------------------------------------------------------\u001b[0m",
            "\u001b[0;31mTclError\u001b[0m                                  Traceback (most recent call last)",
            "\u001b[0;32m/usr/local/lib/python3.7/dist-packages/IPython/core/formatters.py\u001b[0m in \u001b[0;36m__call__\u001b[0;34m(self, obj)\u001b[0m\n\u001b[1;32m    336\u001b[0m             \u001b[0mmethod\u001b[0m \u001b[0;34m=\u001b[0m \u001b[0mget_real_method\u001b[0m\u001b[0;34m(\u001b[0m\u001b[0mobj\u001b[0m\u001b[0;34m,\u001b[0m \u001b[0mself\u001b[0m\u001b[0;34m.\u001b[0m\u001b[0mprint_method\u001b[0m\u001b[0;34m)\u001b[0m\u001b[0;34m\u001b[0m\u001b[0;34m\u001b[0m\u001b[0m\n\u001b[1;32m    337\u001b[0m             \u001b[0;32mif\u001b[0m \u001b[0mmethod\u001b[0m \u001b[0;32mis\u001b[0m \u001b[0;32mnot\u001b[0m \u001b[0;32mNone\u001b[0m\u001b[0;34m:\u001b[0m\u001b[0;34m\u001b[0m\u001b[0;34m\u001b[0m\u001b[0m\n\u001b[0;32m--> 338\u001b[0;31m                 \u001b[0;32mreturn\u001b[0m \u001b[0mmethod\u001b[0m\u001b[0;34m(\u001b[0m\u001b[0;34m)\u001b[0m\u001b[0;34m\u001b[0m\u001b[0;34m\u001b[0m\u001b[0m\n\u001b[0m\u001b[1;32m    339\u001b[0m             \u001b[0;32mreturn\u001b[0m \u001b[0;32mNone\u001b[0m\u001b[0;34m\u001b[0m\u001b[0;34m\u001b[0m\u001b[0m\n\u001b[1;32m    340\u001b[0m         \u001b[0;32melse\u001b[0m\u001b[0;34m:\u001b[0m\u001b[0;34m\u001b[0m\u001b[0;34m\u001b[0m\u001b[0m\n",
            "\u001b[0;32m/usr/local/lib/python3.7/dist-packages/nltk/tree.py\u001b[0m in \u001b[0;36m_repr_png_\u001b[0;34m(self)\u001b[0m\n\u001b[1;32m    717\u001b[0m         \u001b[0;32mfrom\u001b[0m \u001b[0mnltk\u001b[0m\u001b[0;34m.\u001b[0m\u001b[0mdraw\u001b[0m\u001b[0;34m.\u001b[0m\u001b[0mutil\u001b[0m \u001b[0;32mimport\u001b[0m \u001b[0mCanvasFrame\u001b[0m\u001b[0;34m\u001b[0m\u001b[0;34m\u001b[0m\u001b[0m\n\u001b[1;32m    718\u001b[0m         \u001b[0;32mfrom\u001b[0m \u001b[0mnltk\u001b[0m\u001b[0;34m.\u001b[0m\u001b[0minternals\u001b[0m \u001b[0;32mimport\u001b[0m \u001b[0mfind_binary\u001b[0m\u001b[0;34m\u001b[0m\u001b[0;34m\u001b[0m\u001b[0m\n\u001b[0;32m--> 719\u001b[0;31m         \u001b[0m_canvas_frame\u001b[0m \u001b[0;34m=\u001b[0m \u001b[0mCanvasFrame\u001b[0m\u001b[0;34m(\u001b[0m\u001b[0;34m)\u001b[0m\u001b[0;34m\u001b[0m\u001b[0;34m\u001b[0m\u001b[0m\n\u001b[0m\u001b[1;32m    720\u001b[0m         \u001b[0mwidget\u001b[0m \u001b[0;34m=\u001b[0m \u001b[0mtree_to_treesegment\u001b[0m\u001b[0;34m(\u001b[0m\u001b[0m_canvas_frame\u001b[0m\u001b[0;34m.\u001b[0m\u001b[0mcanvas\u001b[0m\u001b[0;34m(\u001b[0m\u001b[0;34m)\u001b[0m\u001b[0;34m,\u001b[0m \u001b[0mself\u001b[0m\u001b[0;34m)\u001b[0m\u001b[0;34m\u001b[0m\u001b[0;34m\u001b[0m\u001b[0m\n\u001b[1;32m    721\u001b[0m         \u001b[0m_canvas_frame\u001b[0m\u001b[0;34m.\u001b[0m\u001b[0madd_widget\u001b[0m\u001b[0;34m(\u001b[0m\u001b[0mwidget\u001b[0m\u001b[0;34m)\u001b[0m\u001b[0;34m\u001b[0m\u001b[0;34m\u001b[0m\u001b[0m\n",
            "\u001b[0;32m/usr/local/lib/python3.7/dist-packages/nltk/draw/util.py\u001b[0m in \u001b[0;36m__init__\u001b[0;34m(self, parent, **kw)\u001b[0m\n\u001b[1;32m   1651\u001b[0m         \u001b[0;31m# If no parent was given, set up a top-level window.\u001b[0m\u001b[0;34m\u001b[0m\u001b[0;34m\u001b[0m\u001b[0;34m\u001b[0m\u001b[0m\n\u001b[1;32m   1652\u001b[0m         \u001b[0;32mif\u001b[0m \u001b[0mparent\u001b[0m \u001b[0;32mis\u001b[0m \u001b[0;32mNone\u001b[0m\u001b[0;34m:\u001b[0m\u001b[0;34m\u001b[0m\u001b[0;34m\u001b[0m\u001b[0m\n\u001b[0;32m-> 1653\u001b[0;31m             \u001b[0mself\u001b[0m\u001b[0;34m.\u001b[0m\u001b[0m_parent\u001b[0m \u001b[0;34m=\u001b[0m \u001b[0mTk\u001b[0m\u001b[0;34m(\u001b[0m\u001b[0;34m)\u001b[0m\u001b[0;34m\u001b[0m\u001b[0;34m\u001b[0m\u001b[0m\n\u001b[0m\u001b[1;32m   1654\u001b[0m             \u001b[0mself\u001b[0m\u001b[0;34m.\u001b[0m\u001b[0m_parent\u001b[0m\u001b[0;34m.\u001b[0m\u001b[0mtitle\u001b[0m\u001b[0;34m(\u001b[0m\u001b[0;34m'NLTK'\u001b[0m\u001b[0;34m)\u001b[0m\u001b[0;34m\u001b[0m\u001b[0;34m\u001b[0m\u001b[0m\n\u001b[1;32m   1655\u001b[0m             \u001b[0mself\u001b[0m\u001b[0;34m.\u001b[0m\u001b[0m_parent\u001b[0m\u001b[0;34m.\u001b[0m\u001b[0mbind\u001b[0m\u001b[0;34m(\u001b[0m\u001b[0;34m'<Control-p>'\u001b[0m\u001b[0;34m,\u001b[0m \u001b[0;32mlambda\u001b[0m \u001b[0me\u001b[0m\u001b[0;34m:\u001b[0m \u001b[0mself\u001b[0m\u001b[0;34m.\u001b[0m\u001b[0mprint_to_file\u001b[0m\u001b[0;34m(\u001b[0m\u001b[0;34m)\u001b[0m\u001b[0;34m)\u001b[0m\u001b[0;34m\u001b[0m\u001b[0;34m\u001b[0m\u001b[0m\n",
            "\u001b[0;32m/usr/lib/python3.7/tkinter/__init__.py\u001b[0m in \u001b[0;36m__init__\u001b[0;34m(self, screenName, baseName, className, useTk, sync, use)\u001b[0m\n\u001b[1;32m   2021\u001b[0m                 \u001b[0mbaseName\u001b[0m \u001b[0;34m=\u001b[0m \u001b[0mbaseName\u001b[0m \u001b[0;34m+\u001b[0m \u001b[0mext\u001b[0m\u001b[0;34m\u001b[0m\u001b[0;34m\u001b[0m\u001b[0m\n\u001b[1;32m   2022\u001b[0m         \u001b[0minteractive\u001b[0m \u001b[0;34m=\u001b[0m \u001b[0;36m0\u001b[0m\u001b[0;34m\u001b[0m\u001b[0;34m\u001b[0m\u001b[0m\n\u001b[0;32m-> 2023\u001b[0;31m         \u001b[0mself\u001b[0m\u001b[0;34m.\u001b[0m\u001b[0mtk\u001b[0m \u001b[0;34m=\u001b[0m \u001b[0m_tkinter\u001b[0m\u001b[0;34m.\u001b[0m\u001b[0mcreate\u001b[0m\u001b[0;34m(\u001b[0m\u001b[0mscreenName\u001b[0m\u001b[0;34m,\u001b[0m \u001b[0mbaseName\u001b[0m\u001b[0;34m,\u001b[0m \u001b[0mclassName\u001b[0m\u001b[0;34m,\u001b[0m \u001b[0minteractive\u001b[0m\u001b[0;34m,\u001b[0m \u001b[0mwantobjects\u001b[0m\u001b[0;34m,\u001b[0m \u001b[0museTk\u001b[0m\u001b[0;34m,\u001b[0m \u001b[0msync\u001b[0m\u001b[0;34m,\u001b[0m \u001b[0muse\u001b[0m\u001b[0;34m)\u001b[0m\u001b[0;34m\u001b[0m\u001b[0;34m\u001b[0m\u001b[0m\n\u001b[0m\u001b[1;32m   2024\u001b[0m         \u001b[0;32mif\u001b[0m \u001b[0museTk\u001b[0m\u001b[0;34m:\u001b[0m\u001b[0;34m\u001b[0m\u001b[0;34m\u001b[0m\u001b[0m\n\u001b[1;32m   2025\u001b[0m             \u001b[0mself\u001b[0m\u001b[0;34m.\u001b[0m\u001b[0m_loadtk\u001b[0m\u001b[0;34m(\u001b[0m\u001b[0;34m)\u001b[0m\u001b[0;34m\u001b[0m\u001b[0;34m\u001b[0m\u001b[0m\n",
            "\u001b[0;31mTclError\u001b[0m: no display name and no $DISPLAY environment variable"
          ]
        },
        {
          "output_type": "execute_result",
          "data": {
            "text/plain": [
              "Tree('S', [('perhaps', 'RB'), ('one', 'CD'), ('of', 'IN'), ('the', 'DT'), ('most', 'RBS'), ('significant', 'JJ'), ('advances', 'NNS'), ('made', 'VBN'), ('by', 'IN'), ('arabic', 'JJ'), ('mathematics', 'NNS'), ('began', 'VBD'), ('at', 'IN'), Tree('NP', [('this', 'DT'), ('time', 'NN')]), ('with', 'IN'), Tree('NP', [('the', 'DT'), ('work', 'NN')]), ('of', 'IN'), ('al-khwarizmi', 'JJ'), (',', ','), ('namely', 'RB'), ('the', 'DT'), ('beginnings', 'NNS'), ('of', 'IN'), Tree('NP', [('algebra', 'NN')]), ('.', '.'), ('it', 'PRP'), ('is', 'VBZ'), ('important', 'JJ'), ('to', 'TO'), ('understand', 'VB'), ('just', 'RB'), ('how', 'WRB'), ('significant', 'JJ'), Tree('NP', [('this', 'DT'), ('new', 'JJ'), ('idea', 'NN')]), ('was', 'VBD'), ('.', '.'), ('it', 'PRP'), ('was', 'VBD'), Tree('NP', [('a', 'DT'), ('revolutionary', 'JJ'), ('move', 'NN')]), ('away', 'RB'), ('from', 'IN'), Tree('NP', [('the', 'DT'), ('greek', 'JJ'), ('concept', 'NN')]), ('of', 'IN'), ('mathematics', 'NNS'), ('which', 'WDT'), ('was', 'VBD'), ('essentially', 'RB'), ('geometry', 'JJ'), ('.', '.'), Tree('NP', [('algebra', 'NN')]), ('was', 'VBD'), Tree('NP', [('a', 'DT'), ('unifying', 'JJ'), ('theory', 'NN')]), ('which', 'WDT'), ('allowedrational', 'JJ'), ('numbers', 'NNS'), (',', ','), ('irrational', 'JJ'), ('numbers', 'NNS'), (',', ','), ('geometrical', 'JJ'), ('magnitudes', 'NNS'), (',', ','), Tree('NP', [('etc.', 'NN')]), (',', ','), ('to', 'TO'), ('all', 'DT'), ('be', 'VB'), ('treated', 'VBN'), ('as', 'IN'), ('``', '``'), ('algebraic', 'JJ'), ('objects', 'NNS'), (\"''\", \"''\"), ('.', '.'), ('it', 'PRP'), ('gave', 'VBD'), ('mathematics', 'NNS'), Tree('NP', [('a', 'DT'), ('whole', 'JJ'), ('new', 'JJ'), ('development', 'NN')]), Tree('NP', [('path', 'NN')]), ('so', 'RB'), ('much', 'JJ'), ('broader', 'JJR'), ('in', 'IN'), Tree('NP', [('concept', 'NN')]), ('to', 'TO'), ('that', 'DT'), ('which', 'WDT'), ('had', 'VBD'), ('existed', 'VBN'), ('before', 'IN'), (',', ','), ('and', 'CC'), ('provided', 'VBD'), Tree('NP', [('a', 'DT'), ('vehicle', 'NN')]), ('for', 'IN'), Tree('NP', [('future', 'JJ'), ('development', 'NN')]), ('of', 'IN'), Tree('NP', [('the', 'DT'), ('subject', 'NN')]), ('.', '.'), Tree('NP', [('another', 'DT'), ('important', 'JJ'), ('aspect', 'NN')]), ('of', 'IN'), Tree('NP', [('the', 'DT'), ('introduction', 'NN')]), ('of', 'IN'), ('algebraic', 'JJ'), ('ideas', 'NNS'), ('was', 'VBD'), ('that', 'IN'), ('it', 'PRP'), ('allowed', 'VBD'), ('mathematics', 'NNS'), ('to', 'TO'), ('be', 'VB'), ('applied', 'VBN'), ('to', 'TO'), ('itselfin', 'VB'), Tree('NP', [('a', 'DT'), ('way', 'NN')]), ('which', 'WDT'), ('had', 'VBD'), ('not', 'RB'), ('happened', 'VBN'), ('before', 'IN'), ('.', '.')])"
            ]
          },
          "metadata": {
            "tags": []
          },
          "execution_count": 118
        }
      ]
    },
    {
      "cell_type": "markdown",
      "metadata": {
        "id": "4faaXN6wMlmr"
      },
      "source": [
        "### Printing Dependencies"
      ]
    },
    {
      "cell_type": "code",
      "metadata": {
        "colab": {
          "base_uri": "https://localhost:8080/"
        },
        "id": "GFJO8i4RMlmr",
        "outputId": "04dda7ea-6e06-4c7e-ee7f-21e631d88217"
      },
      "source": [
        "!pip install ghostscript"
      ],
      "execution_count": 119,
      "outputs": [
        {
          "output_type": "stream",
          "text": [
            "Requirement already satisfied: ghostscript in /usr/local/lib/python3.7/dist-packages (0.7)\n",
            "Requirement already satisfied: setuptools>=38.6.0 in /usr/local/lib/python3.7/dist-packages (from ghostscript) (57.0.0)\n"
          ],
          "name": "stdout"
        }
      ]
    },
    {
      "cell_type": "code",
      "metadata": {
        "id": "bcDIYsVgMlms"
      },
      "source": [
        "import ghostscript"
      ],
      "execution_count": null,
      "outputs": []
    },
    {
      "cell_type": "code",
      "metadata": {
        "id": "x9zY8JonN5ZJ"
      },
      "source": [
        "tree = chunk_parser.parse(anglais_pos_tag )"
      ],
      "execution_count": null,
      "outputs": []
    },
    {
      "cell_type": "code",
      "metadata": {
        "id": "BqywNMvuMlms"
      },
      "source": [
        "tree.draw()"
      ],
      "execution_count": null,
      "outputs": []
    },
    {
      "cell_type": "markdown",
      "metadata": {
        "id": "NoR1mGpRMlms"
      },
      "source": [
        "\n",
        "# install watermark"
      ]
    },
    {
      "cell_type": "code",
      "metadata": {
        "id": "ZGFlcLmyMlms"
      },
      "source": [
        "!pip install watermark\n",
        "%load_ext watermark"
      ],
      "execution_count": null,
      "outputs": []
    },
    {
      "cell_type": "code",
      "metadata": {
        "id": "jvCV5S9jMlmt"
      },
      "source": [
        "%watermark -v -m -p nltk"
      ],
      "execution_count": null,
      "outputs": []
    },
    {
      "cell_type": "code",
      "metadata": {
        "id": "kj78KKjZMlmu"
      },
      "source": [
        "%watermark --iversions"
      ],
      "execution_count": null,
      "outputs": []
    }
  ]
}